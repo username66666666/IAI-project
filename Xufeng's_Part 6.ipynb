{
  "cells": [
    {
      "cell_type": "markdown",
      "metadata": {
        "id": "AyWNmLRUSvzA"
      },
      "source": [
        "## pip"
      ]
    },
    {
      "cell_type": "code",
      "execution_count": 1,
      "metadata": {
        "colab": {
          "base_uri": "https://localhost:8080/"
        },
        "id": "rPmHl-TV8XMc",
        "outputId": "f367b284-7fc6-4e7f-ccbb-82268c45d9c4"
      },
      "outputs": [
        {
          "output_type": "stream",
          "name": "stdout",
          "text": [
            "Looking in indexes: https://pypi.org/simple, https://us-python.pkg.dev/colab-wheels/public/simple/\n",
            "Requirement already satisfied: pip in /usr/local/lib/python3.9/dist-packages (22.0.4)\n",
            "Collecting pip\n",
            "  Downloading pip-23.0.1-py3-none-any.whl (2.1 MB)\n",
            "     ━━━━━━━━━━━━━━━━━━━━━━━━━━━━━━━━━━━━━━━━ 2.1/2.1 MB 23.1 MB/s eta 0:00:00\n",
            "Installing collected packages: pip\n",
            "  Attempting uninstall: pip\n",
            "    Found existing installation: pip 22.0.4\n",
            "    Uninstalling pip-22.0.4:\n",
            "      Successfully uninstalled pip-22.0.4\n",
            "Successfully installed pip-23.0.1\n",
            "Looking in indexes: https://pypi.org/simple, https://us-python.pkg.dev/colab-wheels/public/simple/\n",
            "Collecting git+https://github.com/ProfessorGuineapig/climate-learn.git\n",
            "  Cloning https://github.com/ProfessorGuineapig/climate-learn.git to /tmp/pip-req-build-_5eui773\n",
            "  Resolved https://github.com/ProfessorGuineapig/climate-learn.git to commit 306587f7451004f2548427d46e9da163d84a47b1\n",
            "  Installing build dependencies: started\n",
            "  Installing build dependencies: finished with status 'done'\n",
            "  Getting requirements to build wheel: started\n",
            "  Getting requirements to build wheel: finished with status 'done'\n",
            "  Installing backend dependencies: started\n",
            "  Installing backend dependencies: finished with status 'done'\n",
            "  Preparing metadata (pyproject.toml): started\n",
            "  Preparing metadata (pyproject.toml): finished with status 'done'\n",
            "Requirement already satisfied: xarray>=0.20.2 in /usr/local/lib/python3.9/dist-packages (from climate-learn==0.0.2) (2022.12.0)\n",
            "Requirement already satisfied: dask>=2022.2.0 in /usr/local/lib/python3.9/dist-packages (from climate-learn==0.0.2) (2022.2.1)\n",
            "Collecting pytorch-lightning>=1.9.0\n",
            "  Downloading pytorch_lightning-1.9.4-py3-none-any.whl (827 kB)\n",
            "     ━━━━━━━━━━━━━━━━━━━━━━━━━━━━━━━━━━━━━━ 827.8/827.8 kB 46.4 MB/s eta 0:00:00\n",
            "Requirement already satisfied: netcdf4>=1.6.2 in /usr/local/lib/python3.9/dist-packages (from climate-learn==0.0.2) (1.6.3)\n",
            "Requirement already satisfied: matplotlib>=3.5.3 in /usr/local/lib/python3.9/dist-packages (from climate-learn==0.0.2) (3.5.3)\n",
            "Requirement already satisfied: scikit-learn>=1.0.2 in /usr/local/lib/python3.9/dist-packages (from climate-learn==0.0.2) (1.2.1)\n",
            "Collecting timm>=0.6.12\n",
            "  Downloading timm-0.6.12-py3-none-any.whl (549 kB)\n",
            "     ━━━━━━━━━━━━━━━━━━━━━━━━━━━━━━━━━━━━━━ 549.1/549.1 kB 55.4 MB/s eta 0:00:00\n",
            "Collecting cdsapi>=0.5.1\n",
            "  Downloading cdsapi-0.5.1.tar.gz (12 kB)\n",
            "  Preparing metadata (setup.py): started\n",
            "  Preparing metadata (setup.py): finished with status 'done'\n",
            "Collecting wandb>=0.13.9\n",
            "  Downloading wandb-0.13.11-py3-none-any.whl (2.0 MB)\n",
            "     ━━━━━━━━━━━━━━━━━━━━━━━━━━━━━━━━━━━━━━━━ 2.0/2.0 MB 82.8 MB/s eta 0:00:00\n",
            "Collecting importlib-metadata==4.13.0\n",
            "  Downloading importlib_metadata-4.13.0-py3-none-any.whl (23 kB)\n",
            "Requirement already satisfied: zipp>=0.5 in /usr/local/lib/python3.9/dist-packages (from importlib-metadata==4.13.0->climate-learn==0.0.2) (3.15.0)\n",
            "Requirement already satisfied: requests>=2.5.0 in /usr/local/lib/python3.9/dist-packages (from cdsapi>=0.5.1->climate-learn==0.0.2) (2.25.1)\n",
            "Requirement already satisfied: tqdm in /usr/local/lib/python3.9/dist-packages (from cdsapi>=0.5.1->climate-learn==0.0.2) (4.65.0)\n",
            "Requirement already satisfied: toolz>=0.8.2 in /usr/local/lib/python3.9/dist-packages (from dask>=2022.2.0->climate-learn==0.0.2) (0.12.0)\n",
            "Requirement already satisfied: fsspec>=0.6.0 in /usr/local/lib/python3.9/dist-packages (from dask>=2022.2.0->climate-learn==0.0.2) (2023.3.0)\n",
            "Requirement already satisfied: packaging>=20.0 in /usr/local/lib/python3.9/dist-packages (from dask>=2022.2.0->climate-learn==0.0.2) (23.0)\n",
            "Requirement already satisfied: pyyaml>=5.3.1 in /usr/local/lib/python3.9/dist-packages (from dask>=2022.2.0->climate-learn==0.0.2) (6.0)\n",
            "Requirement already satisfied: partd>=0.3.10 in /usr/local/lib/python3.9/dist-packages (from dask>=2022.2.0->climate-learn==0.0.2) (1.3.0)\n",
            "Requirement already satisfied: cloudpickle>=1.1.1 in /usr/local/lib/python3.9/dist-packages (from dask>=2022.2.0->climate-learn==0.0.2) (2.2.1)\n",
            "Requirement already satisfied: pyparsing>=2.2.1 in /usr/local/lib/python3.9/dist-packages (from matplotlib>=3.5.3->climate-learn==0.0.2) (3.0.9)\n",
            "Requirement already satisfied: kiwisolver>=1.0.1 in /usr/local/lib/python3.9/dist-packages (from matplotlib>=3.5.3->climate-learn==0.0.2) (1.4.4)\n",
            "Requirement already satisfied: pillow>=6.2.0 in /usr/local/lib/python3.9/dist-packages (from matplotlib>=3.5.3->climate-learn==0.0.2) (8.4.0)\n",
            "Requirement already satisfied: fonttools>=4.22.0 in /usr/local/lib/python3.9/dist-packages (from matplotlib>=3.5.3->climate-learn==0.0.2) (4.39.0)\n",
            "Requirement already satisfied: numpy>=1.17 in /usr/local/lib/python3.9/dist-packages (from matplotlib>=3.5.3->climate-learn==0.0.2) (1.22.4)\n",
            "Requirement already satisfied: python-dateutil>=2.7 in /usr/local/lib/python3.9/dist-packages (from matplotlib>=3.5.3->climate-learn==0.0.2) (2.8.2)\n",
            "Requirement already satisfied: cycler>=0.10 in /usr/local/lib/python3.9/dist-packages (from matplotlib>=3.5.3->climate-learn==0.0.2) (0.11.0)\n",
            "Requirement already satisfied: cftime in /usr/local/lib/python3.9/dist-packages (from netcdf4>=1.6.2->climate-learn==0.0.2) (1.6.2)\n",
            "Requirement already satisfied: torch>=1.10.0 in /usr/local/lib/python3.9/dist-packages (from pytorch-lightning>=1.9.0->climate-learn==0.0.2) (1.13.1+cu116)\n",
            "Collecting torchmetrics>=0.7.0\n",
            "  Downloading torchmetrics-0.11.4-py3-none-any.whl (519 kB)\n",
            "     ━━━━━━━━━━━━━━━━━━━━━━━━━━━━━━━━━━━━━━ 519.2/519.2 kB 51.0 MB/s eta 0:00:00\n",
            "Requirement already satisfied: typing-extensions>=4.0.0 in /usr/local/lib/python3.9/dist-packages (from pytorch-lightning>=1.9.0->climate-learn==0.0.2) (4.5.0)\n",
            "Collecting lightning-utilities>=0.6.0.post0\n",
            "  Downloading lightning_utilities-0.8.0-py3-none-any.whl (20 kB)\n",
            "Requirement already satisfied: joblib>=1.1.1 in /usr/local/lib/python3.9/dist-packages (from scikit-learn>=1.0.2->climate-learn==0.0.2) (1.2.0)\n",
            "Requirement already satisfied: threadpoolctl>=2.0.0 in /usr/local/lib/python3.9/dist-packages (from scikit-learn>=1.0.2->climate-learn==0.0.2) (3.1.0)\n",
            "Requirement already satisfied: scipy>=1.3.2 in /usr/local/lib/python3.9/dist-packages (from scikit-learn>=1.0.2->climate-learn==0.0.2) (1.10.1)\n",
            "Collecting huggingface-hub\n",
            "  Downloading huggingface_hub-0.13.1-py3-none-any.whl (199 kB)\n",
            "     ━━━━━━━━━━━━━━━━━━━━━━━━━━━━━━━━━━━━━━ 199.2/199.2 kB 27.2 MB/s eta 0:00:00\n",
            "Requirement already satisfied: torchvision in /usr/local/lib/python3.9/dist-packages (from timm>=0.6.12->climate-learn==0.0.2) (0.14.1+cu116)\n",
            "Requirement already satisfied: setuptools in /usr/local/lib/python3.9/dist-packages (from wandb>=0.13.9->climate-learn==0.0.2) (57.4.0)\n",
            "Collecting sentry-sdk>=1.0.0\n",
            "  Downloading sentry_sdk-1.16.0-py2.py3-none-any.whl (184 kB)\n",
            "     ━━━━━━━━━━━━━━━━━━━━━━━━━━━━━━━━━━━━━━ 184.3/184.3 kB 23.1 MB/s eta 0:00:00\n",
            "Requirement already satisfied: protobuf!=4.21.0,<5,>=3.15.0 in /usr/local/lib/python3.9/dist-packages (from wandb>=0.13.9->climate-learn==0.0.2) (3.19.6)\n",
            "Collecting docker-pycreds>=0.4.0\n",
            "  Downloading docker_pycreds-0.4.0-py2.py3-none-any.whl (9.0 kB)\n",
            "Requirement already satisfied: psutil>=5.0.0 in /usr/local/lib/python3.9/dist-packages (from wandb>=0.13.9->climate-learn==0.0.2) (5.4.8)\n",
            "Collecting GitPython!=3.1.29,>=1.0.0\n",
            "  Downloading GitPython-3.1.31-py3-none-any.whl (184 kB)\n",
            "     ━━━━━━━━━━━━━━━━━━━━━━━━━━━━━━━━━━━━━━ 184.3/184.3 kB 25.4 MB/s eta 0:00:00\n",
            "Collecting setproctitle\n",
            "  Downloading setproctitle-1.3.2-cp39-cp39-manylinux_2_5_x86_64.manylinux1_x86_64.manylinux_2_17_x86_64.manylinux2014_x86_64.whl (30 kB)\n",
            "Collecting appdirs>=1.4.3\n",
            "  Downloading appdirs-1.4.4-py2.py3-none-any.whl (9.6 kB)\n",
            "Requirement already satisfied: Click!=8.0.0,>=7.0 in /usr/local/lib/python3.9/dist-packages (from wandb>=0.13.9->climate-learn==0.0.2) (8.1.3)\n",
            "Collecting pathtools\n",
            "  Downloading pathtools-0.1.2.tar.gz (11 kB)\n",
            "  Preparing metadata (setup.py): started\n",
            "  Preparing metadata (setup.py): finished with status 'done'\n",
            "Requirement already satisfied: pandas>=1.3 in /usr/local/lib/python3.9/dist-packages (from xarray>=0.20.2->climate-learn==0.0.2) (1.3.5)\n",
            "Requirement already satisfied: six>=1.4.0 in /usr/local/lib/python3.9/dist-packages (from docker-pycreds>=0.4.0->wandb>=0.13.9->climate-learn==0.0.2) (1.15.0)\n",
            "Collecting aiohttp!=4.0.0a0,!=4.0.0a1\n",
            "  Downloading aiohttp-3.8.4-cp39-cp39-manylinux_2_17_x86_64.manylinux2014_x86_64.whl (1.0 MB)\n",
            "     ━━━━━━━━━━━━━━━━━━━━━━━━━━━━━━━━━━━━━━━━ 1.0/1.0 MB 44.1 MB/s eta 0:00:00\n",
            "Collecting gitdb<5,>=4.0.1\n",
            "  Downloading gitdb-4.0.10-py3-none-any.whl (62 kB)\n",
            "     ━━━━━━━━━━━━━━━━━━━━━━━━━━━━━━━━━━━━━━━━ 62.7/62.7 kB 8.0 MB/s eta 0:00:00\n",
            "Requirement already satisfied: pytz>=2017.3 in /usr/local/lib/python3.9/dist-packages (from pandas>=1.3->xarray>=0.20.2->climate-learn==0.0.2) (2022.7.1)\n",
            "Requirement already satisfied: locket in /usr/local/lib/python3.9/dist-packages (from partd>=0.3.10->dask>=2022.2.0->climate-learn==0.0.2) (1.0.0)\n",
            "Requirement already satisfied: certifi>=2017.4.17 in /usr/local/lib/python3.9/dist-packages (from requests>=2.5.0->cdsapi>=0.5.1->climate-learn==0.0.2) (2022.12.7)\n",
            "Requirement already satisfied: urllib3<1.27,>=1.21.1 in /usr/local/lib/python3.9/dist-packages (from requests>=2.5.0->cdsapi>=0.5.1->climate-learn==0.0.2) (1.26.14)\n",
            "Requirement already satisfied: idna<3,>=2.5 in /usr/local/lib/python3.9/dist-packages (from requests>=2.5.0->cdsapi>=0.5.1->climate-learn==0.0.2) (2.10)\n",
            "Requirement already satisfied: chardet<5,>=3.0.2 in /usr/local/lib/python3.9/dist-packages (from requests>=2.5.0->cdsapi>=0.5.1->climate-learn==0.0.2) (4.0.0)\n",
            "Requirement already satisfied: filelock in /usr/local/lib/python3.9/dist-packages (from huggingface-hub->timm>=0.6.12->climate-learn==0.0.2) (3.9.0)\n",
            "Collecting yarl<2.0,>=1.0\n",
            "  Downloading yarl-1.8.2-cp39-cp39-manylinux_2_17_x86_64.manylinux2014_x86_64.whl (264 kB)\n",
            "     ━━━━━━━━━━━━━━━━━━━━━━━━━━━━━━━━━━━━━━ 264.6/264.6 kB 28.7 MB/s eta 0:00:00\n",
            "Collecting aiosignal>=1.1.2\n",
            "  Downloading aiosignal-1.3.1-py3-none-any.whl (7.6 kB)\n",
            "Requirement already satisfied: attrs>=17.3.0 in /usr/local/lib/python3.9/dist-packages (from aiohttp!=4.0.0a0,!=4.0.0a1->fsspec>=0.6.0->dask>=2022.2.0->climate-learn==0.0.2) (22.2.0)\n",
            "Collecting frozenlist>=1.1.1\n",
            "  Downloading frozenlist-1.3.3-cp39-cp39-manylinux_2_5_x86_64.manylinux1_x86_64.manylinux_2_17_x86_64.manylinux2014_x86_64.whl (158 kB)\n",
            "     ━━━━━━━━━━━━━━━━━━━━━━━━━━━━━━━━━━━━━━ 158.8/158.8 kB 22.1 MB/s eta 0:00:00\n",
            "Collecting async-timeout<5.0,>=4.0.0a3\n",
            "  Downloading async_timeout-4.0.2-py3-none-any.whl (5.8 kB)\n",
            "Collecting charset-normalizer<4.0,>=2.0\n",
            "  Downloading charset_normalizer-3.1.0-cp39-cp39-manylinux_2_17_x86_64.manylinux2014_x86_64.whl (199 kB)\n",
            "     ━━━━━━━━━━━━━━━━━━━━━━━━━━━━━━━━━━━━━━ 199.2/199.2 kB 29.0 MB/s eta 0:00:00\n",
            "Collecting multidict<7.0,>=4.5\n",
            "  Downloading multidict-6.0.4-cp39-cp39-manylinux_2_17_x86_64.manylinux2014_x86_64.whl (114 kB)\n",
            "     ━━━━━━━━━━━━━━━━━━━━━━━━━━━━━━━━━━━━━━ 114.2/114.2 kB 16.4 MB/s eta 0:00:00\n",
            "Collecting smmap<6,>=3.0.1\n",
            "  Downloading smmap-5.0.0-py3-none-any.whl (24 kB)\n",
            "Building wheels for collected packages: climate-learn, cdsapi, pathtools\n",
            "  Building wheel for climate-learn (pyproject.toml): started\n",
            "  Building wheel for climate-learn (pyproject.toml): finished with status 'done'\n",
            "  Created wheel for climate-learn: filename=climate_learn-0.0.2-py3-none-any.whl size=51702 sha256=274bc12c904cc0fa5915ecc4973821a5c2032e44cdf6533db845f6c08c5d2a37\n",
            "  Stored in directory: /tmp/pip-ephem-wheel-cache-6xrcbdd9/wheels/45/7e/cc/11cb4515e345f553d84e534400f7cd09e2cb573bd993ba6e32\n",
            "  Building wheel for cdsapi (setup.py): started\n",
            "  Building wheel for cdsapi (setup.py): finished with status 'done'\n",
            "  Created wheel for cdsapi: filename=cdsapi-0.5.1-py2.py3-none-any.whl size=11700 sha256=175ad595403aae3630742d0dfa2649a402ff72b53fbb52c447fb118798a9afe9\n",
            "  Stored in directory: /root/.cache/pip/wheels/8b/19/90/0f30bd354f0c245f87c1d7639466d05c6b028d3acb4a64cbed\n",
            "  Building wheel for pathtools (setup.py): started\n",
            "  Building wheel for pathtools (setup.py): finished with status 'done'\n",
            "  Created wheel for pathtools: filename=pathtools-0.1.2-py3-none-any.whl size=8806 sha256=465531f1b8434e0f872617b6d71f97d7bd7c9093974e88e49d412d2d6241f8f0\n",
            "  Stored in directory: /root/.cache/pip/wheels/b7/0a/67/ada2a22079218c75a88361c0782855cc72aebc4d18d0289d05\n",
            "Successfully built climate-learn cdsapi pathtools\n",
            "Installing collected packages: pathtools, appdirs, smmap, setproctitle, sentry-sdk, multidict, lightning-utilities, importlib-metadata, frozenlist, docker-pycreds, charset-normalizer, async-timeout, yarl, torchmetrics, huggingface-hub, gitdb, cdsapi, aiosignal, timm, GitPython, aiohttp, wandb, pytorch-lightning, climate-learn\n",
            "  Attempting uninstall: importlib-metadata\n",
            "    Found existing installation: importlib-metadata 6.0.0\n",
            "    Uninstalling importlib-metadata-6.0.0:\n",
            "      Successfully uninstalled importlib-metadata-6.0.0\n",
            "Successfully installed GitPython-3.1.31 aiohttp-3.8.4 aiosignal-1.3.1 appdirs-1.4.4 async-timeout-4.0.2 cdsapi-0.5.1 charset-normalizer-3.1.0 climate-learn-0.0.2 docker-pycreds-0.4.0 frozenlist-1.3.3 gitdb-4.0.10 huggingface-hub-0.13.1 importlib-metadata-4.13.0 lightning-utilities-0.8.0 multidict-6.0.4 pathtools-0.1.2 pytorch-lightning-1.9.4 sentry-sdk-1.16.0 setproctitle-1.3.2 smmap-5.0.0 timm-0.6.12 torchmetrics-0.11.4 wandb-0.13.11 yarl-1.8.2\n"
          ]
        },
        {
          "output_type": "stream",
          "name": "stderr",
          "text": [
            "  Running command git clone --filter=blob:none --quiet https://github.com/ProfessorGuineapig/climate-learn.git /tmp/pip-req-build-_5eui773\n",
            "WARNING: Running pip as the 'root' user can result in broken permissions and conflicting behaviour with the system package manager. It is recommended to use a virtual environment instead: https://pip.pypa.io/warnings/venv\n"
          ]
        }
      ],
      "source": [
        "%%bash\n",
        "python -m pip install --upgrade pip\n",
        "pip install git+https://github.com/ProfessorGuineapig/climate-learn.git"
      ]
    },
    {
      "cell_type": "code",
      "execution_count": 2,
      "metadata": {
        "colab": {
          "base_uri": "https://localhost:8080/"
        },
        "id": "q4I7TzHWSPem",
        "outputId": "9a7be855-0bd7-4b97-fab6-3a7f9f360c0e"
      },
      "outputs": [
        {
          "output_type": "stream",
          "name": "stdout",
          "text": [
            "Looking in indexes: https://pypi.org/simple, https://us-python.pkg.dev/colab-wheels/public/simple/\n",
            "Collecting climetlab\n",
            "  Downloading climetlab-0.13.10.tar.gz (157 kB)\n",
            "\u001b[2K     \u001b[90m━━━━━━━━━━━━━━━━━━━━━━━━━━━━━━━━━━━━━━\u001b[0m \u001b[32m157.8/157.8 kB\u001b[0m \u001b[31m12.4 MB/s\u001b[0m eta \u001b[36m0:00:00\u001b[0m\n",
            "\u001b[?25h  Preparing metadata (setup.py) ... \u001b[?25l\u001b[?25hdone\n",
            "Requirement already satisfied: numpy in /usr/local/lib/python3.9/dist-packages (from climetlab) (1.22.4)\n",
            "Requirement already satisfied: pandas in /usr/local/lib/python3.9/dist-packages (from climetlab) (1.3.5)\n",
            "Requirement already satisfied: xarray>=0.19.0 in /usr/local/lib/python3.9/dist-packages (from climetlab) (2022.12.0)\n",
            "Requirement already satisfied: requests in /usr/local/lib/python3.9/dist-packages (from climetlab) (2.25.1)\n",
            "Requirement already satisfied: dask in /usr/local/lib/python3.9/dist-packages (from climetlab) (2022.2.1)\n",
            "Requirement already satisfied: netcdf4 in /usr/local/lib/python3.9/dist-packages (from climetlab) (1.6.3)\n",
            "Collecting cfgrib>=0.9.10.1\n",
            "  Downloading cfgrib-0.9.10.3.tar.gz (6.4 MB)\n",
            "\u001b[2K     \u001b[90m━━━━━━━━━━━━━━━━━━━━━━━━━━━━━━━━━━━━━━━━\u001b[0m \u001b[32m6.4/6.4 MB\u001b[0m \u001b[31m76.0 MB/s\u001b[0m eta \u001b[36m0:00:00\u001b[0m\n",
            "\u001b[?25h  Installing build dependencies ... \u001b[?25l\u001b[?25hdone\n",
            "  Getting requirements to build wheel ... \u001b[?25l\u001b[?25hdone\n",
            "  Preparing metadata (pyproject.toml) ... \u001b[?25l\u001b[?25hdone\n",
            "Requirement already satisfied: cdsapi in /usr/local/lib/python3.9/dist-packages (from climetlab) (0.5.1)\n",
            "Collecting ecmwf-api-client>=1.6.1\n",
            "  Downloading ecmwf-api-client-1.6.3.tar.gz (12 kB)\n",
            "  Preparing metadata (setup.py) ... \u001b[?25l\u001b[?25hdone\n",
            "Collecting multiurl>=0.1.0\n",
            "  Downloading multiurl-0.2.0.tar.gz (16 kB)\n",
            "  Preparing metadata (setup.py) ... \u001b[?25l\u001b[?25hdone\n",
            "Collecting ecmwf-opendata>=0.1.2\n",
            "  Downloading ecmwf-opendata-0.1.2.tar.gz (22 kB)\n",
            "  Preparing metadata (setup.py) ... \u001b[?25l\u001b[?25hdone\n",
            "Requirement already satisfied: tqdm in /usr/local/lib/python3.9/dist-packages (from climetlab) (4.65.0)\n",
            "Collecting eccodes>=1.3.0\n",
            "  Downloading eccodes-1.5.1.tar.gz (2.3 MB)\n",
            "\u001b[2K     \u001b[90m━━━━━━━━━━━━━━━━━━━━━━━━━━━━━━━━━━━━━━━━\u001b[0m \u001b[32m2.3/2.3 MB\u001b[0m \u001b[31m45.7 MB/s\u001b[0m eta \u001b[36m0:00:00\u001b[0m\n",
            "\u001b[?25h  Preparing metadata (setup.py) ... \u001b[?25l\u001b[?25hdone\n",
            "Collecting magics>=1.5.6\n",
            "  Downloading Magics-1.5.8.tar.gz (22 kB)\n",
            "  Preparing metadata (setup.py) ... \u001b[?25l\u001b[?25hdone\n",
            "Collecting ecmwflibs\n",
            "  Downloading ecmwflibs-0.5.1-cp39-cp39-manylinux_2_17_x86_64.manylinux2014_x86_64.whl (76.0 MB)\n",
            "\u001b[2K     \u001b[90m━━━━━━━━━━━━━━━━━━━━━━━━━━━━━━━━━━━━━━━━\u001b[0m \u001b[32m76.0/76.0 MB\u001b[0m \u001b[31m5.5 MB/s\u001b[0m eta \u001b[36m0:00:00\u001b[0m\n",
            "\u001b[?25hCollecting pdbufr\n",
            "  Downloading pdbufr-0.9.0.tar.gz (8.8 MB)\n",
            "\u001b[2K     \u001b[90m━━━━━━━━━━━━━━━━━━━━━━━━━━━━━━━━━━━━━━━━\u001b[0m \u001b[32m8.8/8.8 MB\u001b[0m \u001b[31m94.3 MB/s\u001b[0m eta \u001b[36m0:00:00\u001b[0m\n",
            "\u001b[?25h  Installing build dependencies ... \u001b[?25l\u001b[?25hdone\n",
            "  Getting requirements to build wheel ... \u001b[?25l\u001b[?25hdone\n",
            "  Preparing metadata (pyproject.toml) ... \u001b[?25l\u001b[?25hdone\n",
            "Collecting pyodc\n",
            "  Downloading pyodc-1.1.4.tar.gz (26 kB)\n",
            "  Installing build dependencies ... \u001b[?25l\u001b[?25hdone\n",
            "  Getting requirements to build wheel ... \u001b[?25l\u001b[?25hdone\n",
            "  Preparing metadata (pyproject.toml) ... \u001b[?25l\u001b[?25hdone\n",
            "Requirement already satisfied: toolz in /usr/local/lib/python3.9/dist-packages (from climetlab) (0.12.0)\n",
            "Requirement already satisfied: filelock in /usr/local/lib/python3.9/dist-packages (from climetlab) (3.9.0)\n",
            "Requirement already satisfied: pyyaml in /usr/local/lib/python3.9/dist-packages (from climetlab) (6.0)\n",
            "Requirement already satisfied: markdown in /usr/local/lib/python3.9/dist-packages (from climetlab) (3.4.1)\n",
            "Requirement already satisfied: termcolor in /usr/local/lib/python3.9/dist-packages (from climetlab) (2.2.0)\n",
            "Requirement already satisfied: entrypoints in /usr/local/lib/python3.9/dist-packages (from climetlab) (0.4)\n",
            "Requirement already satisfied: branca in /usr/local/lib/python3.9/dist-packages (from climetlab) (0.6.0)\n",
            "Requirement already satisfied: imageio in /usr/local/lib/python3.9/dist-packages (from climetlab) (2.9.0)\n",
            "Collecting numpngw\n",
            "  Downloading numpngw-0.1.2-py3-none-any.whl (21 kB)\n",
            "Requirement already satisfied: attrs>=19.2 in /usr/local/lib/python3.9/dist-packages (from cfgrib>=0.9.10.1->climetlab) (22.2.0)\n",
            "Requirement already satisfied: click in /usr/local/lib/python3.9/dist-packages (from cfgrib>=0.9.10.1->climetlab) (8.1.3)\n",
            "Requirement already satisfied: cffi in /usr/local/lib/python3.9/dist-packages (from eccodes>=1.3.0->climetlab) (1.15.1)\n",
            "Collecting findlibs\n",
            "  Downloading findlibs-0.0.2.tar.gz (6.2 kB)\n",
            "  Preparing metadata (setup.py) ... \u001b[?25l\u001b[?25hdone\n",
            "Requirement already satisfied: pytz in /usr/local/lib/python3.9/dist-packages (from multiurl>=0.1.0->climetlab) (2022.7.1)\n",
            "Requirement already satisfied: python-dateutil in /usr/local/lib/python3.9/dist-packages (from multiurl>=0.1.0->climetlab) (2.8.2)\n",
            "Requirement already satisfied: packaging>=21.3 in /usr/local/lib/python3.9/dist-packages (from xarray>=0.19.0->climetlab) (23.0)\n",
            "Requirement already satisfied: jinja2 in /usr/local/lib/python3.9/dist-packages (from branca->climetlab) (3.1.2)\n",
            "Requirement already satisfied: certifi>=2017.4.17 in /usr/local/lib/python3.9/dist-packages (from requests->climetlab) (2022.12.7)\n",
            "Requirement already satisfied: urllib3<1.27,>=1.21.1 in /usr/local/lib/python3.9/dist-packages (from requests->climetlab) (1.26.14)\n",
            "Requirement already satisfied: chardet<5,>=3.0.2 in /usr/local/lib/python3.9/dist-packages (from requests->climetlab) (4.0.0)\n",
            "Requirement already satisfied: idna<3,>=2.5 in /usr/local/lib/python3.9/dist-packages (from requests->climetlab) (2.10)\n",
            "Requirement already satisfied: fsspec>=0.6.0 in /usr/local/lib/python3.9/dist-packages (from dask->climetlab) (2023.3.0)\n",
            "Requirement already satisfied: partd>=0.3.10 in /usr/local/lib/python3.9/dist-packages (from dask->climetlab) (1.3.0)\n",
            "Requirement already satisfied: cloudpickle>=1.1.1 in /usr/local/lib/python3.9/dist-packages (from dask->climetlab) (2.2.1)\n",
            "Requirement already satisfied: pillow in /usr/local/lib/python3.9/dist-packages (from imageio->climetlab) (8.4.0)\n",
            "Requirement already satisfied: importlib-metadata>=4.4 in /usr/local/lib/python3.9/dist-packages (from markdown->climetlab) (4.13.0)\n",
            "Requirement already satisfied: cftime in /usr/local/lib/python3.9/dist-packages (from netcdf4->climetlab) (1.6.2)\n",
            "Requirement already satisfied: zipp>=0.5 in /usr/local/lib/python3.9/dist-packages (from importlib-metadata>=4.4->markdown->climetlab) (3.15.0)\n",
            "Requirement already satisfied: locket in /usr/local/lib/python3.9/dist-packages (from partd>=0.3.10->dask->climetlab) (1.0.0)\n",
            "Requirement already satisfied: six>=1.5 in /usr/local/lib/python3.9/dist-packages (from python-dateutil->multiurl>=0.1.0->climetlab) (1.15.0)\n",
            "Requirement already satisfied: pycparser in /usr/local/lib/python3.9/dist-packages (from cffi->eccodes>=1.3.0->climetlab) (2.21)\n",
            "Requirement already satisfied: MarkupSafe>=2.0 in /usr/local/lib/python3.9/dist-packages (from jinja2->branca->climetlab) (2.1.2)\n",
            "Building wheels for collected packages: climetlab, cfgrib, eccodes, ecmwf-api-client, ecmwf-opendata, magics, multiurl, pdbufr, pyodc, findlibs\n",
            "  Building wheel for climetlab (setup.py) ... \u001b[?25l\u001b[?25hdone\n",
            "  Created wheel for climetlab: filename=climetlab-0.13.10-py3-none-any.whl size=262402 sha256=31e252f0497a6060493d3de0531a8a2d5cfdd8afe21d6d15c3f5f483f8b785f9\n",
            "  Stored in directory: /root/.cache/pip/wheels/35/9a/78/6857c58c80d4d7c91a64d5c41357f04dcfa076257b07c0cdcc\n",
            "  Building wheel for cfgrib (pyproject.toml) ... \u001b[?25l\u001b[?25hdone\n",
            "  Created wheel for cfgrib: filename=cfgrib-0.9.10.3-py3-none-any.whl size=46704 sha256=a994f95330c7e5513987e50933408d4ad44050b2fad1c1bdd2a52261f5e160e0\n",
            "  Stored in directory: /root/.cache/pip/wheels/96/37/1f/8bbe2ebdb949ee810324e5a987711f56321743c066df87743e\n",
            "  Building wheel for eccodes (setup.py) ... \u001b[?25l\u001b[?25hdone\n",
            "  Created wheel for eccodes: filename=eccodes-1.5.1-py3-none-any.whl size=40350 sha256=4f194ce0946337b3be1c2da2b6aff43569f67a689fdbce3144711652dbe09bee\n",
            "  Stored in directory: /root/.cache/pip/wheels/1d/e4/6d/7153a71647a78e023fb95200b31f25ce110c94b49c01ab8038\n",
            "  Building wheel for ecmwf-api-client (setup.py) ... \u001b[?25l\u001b[?25hdone\n",
            "  Created wheel for ecmwf-api-client: filename=ecmwf_api_client-1.6.3-py3-none-any.whl size=13533 sha256=97299f3fe629360e79be852c75cba9d14a26798e0d8c3d469ac44413380acc17\n",
            "  Stored in directory: /root/.cache/pip/wheels/a0/30/12/91d2fdee58e43596d6a5d34a05e7fe464de35ff06a31565683\n",
            "  Building wheel for ecmwf-opendata (setup.py) ... \u001b[?25l\u001b[?25hdone\n",
            "  Created wheel for ecmwf-opendata: filename=ecmwf_opendata-0.1.2-py3-none-any.whl size=19544 sha256=2414764d701a26af731c2865015dd9d2509a02d1d594b7c4a57b423358e51367\n",
            "  Stored in directory: /root/.cache/pip/wheels/51/c9/67/d237f91caedd95f3eb387174451fdeea174ce85e005799704f\n",
            "  Building wheel for magics (setup.py) ... \u001b[?25l\u001b[?25hdone\n",
            "  Created wheel for magics: filename=Magics-1.5.8-py2.py3-none-any.whl size=24868 sha256=087d4f9d7891b78bca2618e6f15dbdbdc35affb9b5fb4ee21fc30daa036bef1a\n",
            "  Stored in directory: /root/.cache/pip/wheels/fd/12/d4/be4c34d355355e6c843c5c198b4906cd9f1fac99aa08c6f9e7\n",
            "  Building wheel for multiurl (setup.py) ... \u001b[?25l\u001b[?25hdone\n",
            "  Created wheel for multiurl: filename=multiurl-0.2.0-py3-none-any.whl size=21090 sha256=193f5836a0940fa6bf6234690cb81fb9028f16eb58bf174367ddb6f704c57aeb\n",
            "  Stored in directory: /root/.cache/pip/wheels/27/74/52/7af5ec7b5cf8ca16169a06d9e4bdb4e30f2cf9ecf9e6024df5\n",
            "  Building wheel for pdbufr (pyproject.toml) ... \u001b[?25l\u001b[?25hdone\n",
            "  Created wheel for pdbufr: filename=pdbufr-0.9.0-py3-none-any.whl size=19626 sha256=564f802365b6d4356b49b89ed452144a9270f4615af1debb5e4dd1735862922b\n",
            "  Stored in directory: /root/.cache/pip/wheels/02/70/8b/97d6ccb61e06bc6173e1c1e17bfbe0044cf1b3c3fd3909243c\n",
            "  Building wheel for pyodc (pyproject.toml) ... \u001b[?25l\u001b[?25hdone\n",
            "  Created wheel for pyodc: filename=pyodc-1.1.4-py3-none-any.whl size=28047 sha256=120dd8e4aace8c8b59f7f90bec289802f5d00007e50831fc859c2a187c1235fa\n",
            "  Stored in directory: /root/.cache/pip/wheels/9e/2e/08/9557006268cdb8eb035b9602440e4815ccaa0c3f08e5957642\n",
            "  Building wheel for findlibs (setup.py) ... \u001b[?25l\u001b[?25hdone\n",
            "  Created wheel for findlibs: filename=findlibs-0.0.2-py3-none-any.whl size=6559 sha256=8f53dfca2ef87ab8dc7085e336b9f63e644d1e1d11fe6252a6206ebf8ef93952\n",
            "  Stored in directory: /root/.cache/pip/wheels/9c/bb/f8/b1f064d8e6faaa316ab4065eab9b8ebfb6e295df1e38532aab\n",
            "Successfully built climetlab cfgrib eccodes ecmwf-api-client ecmwf-opendata magics multiurl pdbufr pyodc findlibs\n",
            "Installing collected packages: findlibs, ecmwf-api-client, numpngw, magics, ecmwflibs, multiurl, eccodes, pyodc, pdbufr, ecmwf-opendata, cfgrib, climetlab\n",
            "Successfully installed cfgrib-0.9.10.3 climetlab-0.13.10 eccodes-1.5.1 ecmwf-api-client-1.6.3 ecmwf-opendata-0.1.2 ecmwflibs-0.5.1 findlibs-0.0.2 magics-1.5.8 multiurl-0.2.0 numpngw-0.1.2 pdbufr-0.9.0 pyodc-1.1.4\n",
            "\u001b[33mWARNING: Running pip as the 'root' user can result in broken permissions and conflicting behaviour with the system package manager. It is recommended to use a virtual environment instead: https://pip.pypa.io/warnings/venv\u001b[0m\u001b[33m\n",
            "\u001b[0m"
          ]
        }
      ],
      "source": [
        "pip install climetlab"
      ]
    },
    {
      "cell_type": "code",
      "execution_count": 3,
      "metadata": {
        "colab": {
          "base_uri": "https://localhost:8080/"
        },
        "id": "W6dpsQRSEUfm",
        "outputId": "cb524501-e808-47fe-d77e-1df26d8ca9e5"
      },
      "outputs": [
        {
          "output_type": "stream",
          "name": "stdout",
          "text": [
            "Looking in indexes: https://pypi.org/simple, https://us-python.pkg.dev/colab-wheels/public/simple/\n",
            "Collecting rich\n",
            "  Downloading rich-13.3.2-py3-none-any.whl (238 kB)\n",
            "\u001b[2K     \u001b[90m━━━━━━━━━━━━━━━━━━━━━━━━━━━━━━━━━━━━━━\u001b[0m \u001b[32m238.7/238.7 kB\u001b[0m \u001b[31m20.9 MB/s\u001b[0m eta \u001b[36m0:00:00\u001b[0m\n",
            "\u001b[?25hCollecting pygments<3.0.0,>=2.13.0\n",
            "  Downloading Pygments-2.14.0-py3-none-any.whl (1.1 MB)\n",
            "\u001b[2K     \u001b[90m━━━━━━━━━━━━━━━━━━━━━━━━━━━━━━━━━━━━━━━━\u001b[0m \u001b[32m1.1/1.1 MB\u001b[0m \u001b[31m38.6 MB/s\u001b[0m eta \u001b[36m0:00:00\u001b[0m\n",
            "\u001b[?25hCollecting markdown-it-py<3.0.0,>=2.2.0\n",
            "  Downloading markdown_it_py-2.2.0-py3-none-any.whl (84 kB)\n",
            "\u001b[2K     \u001b[90m━━━━━━━━━━━━━━━━━━━━━━━━━━━━━━━━━━━━━━━━\u001b[0m \u001b[32m84.5/84.5 kB\u001b[0m \u001b[31m10.1 MB/s\u001b[0m eta \u001b[36m0:00:00\u001b[0m\n",
            "\u001b[?25hCollecting mdurl~=0.1\n",
            "  Downloading mdurl-0.1.2-py3-none-any.whl (10.0 kB)\n",
            "Installing collected packages: pygments, mdurl, markdown-it-py, rich\n",
            "  Attempting uninstall: pygments\n",
            "    Found existing installation: Pygments 2.6.1\n",
            "    Uninstalling Pygments-2.6.1:\n",
            "      Successfully uninstalled Pygments-2.6.1\n",
            "\u001b[31mERROR: pip's dependency resolver does not currently take into account all the packages that are installed. This behaviour is the source of the following dependency conflicts.\n",
            "ipython 7.9.0 requires jedi>=0.10, which is not installed.\u001b[0m\u001b[31m\n",
            "\u001b[0mSuccessfully installed markdown-it-py-2.2.0 mdurl-0.1.2 pygments-2.14.0 rich-13.3.2\n",
            "\u001b[33mWARNING: Running pip as the 'root' user can result in broken permissions and conflicting behaviour with the system package manager. It is recommended to use a virtual environment instead: https://pip.pypa.io/warnings/venv\u001b[0m\u001b[33m\n",
            "\u001b[0m"
          ]
        }
      ],
      "source": [
        "pip install -U rich"
      ]
    },
    {
      "cell_type": "code",
      "execution_count": 4,
      "metadata": {
        "colab": {
          "base_uri": "https://localhost:8080/"
        },
        "id": "TWnZnbNxp3CD",
        "outputId": "1f2e6899-61db-4e1f-d1d9-8349b324068e"
      },
      "outputs": [
        {
          "output_type": "stream",
          "name": "stdout",
          "text": [
            "Looking in indexes: https://pypi.org/simple, https://us-python.pkg.dev/colab-wheels/public/simple/\n",
            "Requirement already satisfied: cdsapi in /usr/local/lib/python3.9/dist-packages (0.5.1)\n",
            "Requirement already satisfied: tqdm in /usr/local/lib/python3.9/dist-packages (from cdsapi) (4.65.0)\n",
            "Requirement already satisfied: requests>=2.5.0 in /usr/local/lib/python3.9/dist-packages (from cdsapi) (2.25.1)\n",
            "Requirement already satisfied: chardet<5,>=3.0.2 in /usr/local/lib/python3.9/dist-packages (from requests>=2.5.0->cdsapi) (4.0.0)\n",
            "Requirement already satisfied: certifi>=2017.4.17 in /usr/local/lib/python3.9/dist-packages (from requests>=2.5.0->cdsapi) (2022.12.7)\n",
            "Requirement already satisfied: idna<3,>=2.5 in /usr/local/lib/python3.9/dist-packages (from requests>=2.5.0->cdsapi) (2.10)\n",
            "Requirement already satisfied: urllib3<1.27,>=1.21.1 in /usr/local/lib/python3.9/dist-packages (from requests>=2.5.0->cdsapi) (1.26.14)\n",
            "\u001b[33mWARNING: Running pip as the 'root' user can result in broken permissions and conflicting behaviour with the system package manager. It is recommended to use a virtual environment instead: https://pip.pypa.io/warnings/venv\u001b[0m\u001b[33m\n",
            "\u001b[0m"
          ]
        }
      ],
      "source": [
        "pip install cdsapi"
      ]
    },
    {
      "cell_type": "markdown",
      "metadata": {
        "id": "_JEHUE1f8IHU"
      },
      "source": [
        "**Climetlab is a useful tool for visualizing geographical data. It allows users to easily analyze data from a variety of sources. With Climetlab, users can quickly and efficiently create visualizations of the downloaded data. For more detailed instructions on how to use Climetlab, please check out the [Docs](https://climetlab.readthedocs.io/en/latest/overview.html) page.**"
      ]
    },
    {
      "cell_type": "code",
      "execution_count": 5,
      "metadata": {
        "id": "f3oQ0-pIZIgx"
      },
      "outputs": [],
      "source": [
        "# Download data from copernicus (~15-20 mins)\n",
        "# Generate API KEY: https://cds.climate.copernicus.eu/api-how-to\n",
        "# api_key = \"154140:40d3d2e0-ed2c-4f60-8bc8-d15789841be0\" # Change to your_api_key\n",
        "# download(source = \"copernicus\", variable = \"2m_temperature\", dataset = \"era5\", year = 1979, api_key = api_key)"
      ]
    },
    {
      "cell_type": "markdown",
      "metadata": {
        "id": "6FXa6dIpDqok"
      },
      "source": [
        "**To download copernicus data, I rewrite some relevant parts of the source codes, the block code below should be run each time.**"
      ]
    },
    {
      "cell_type": "markdown",
      "metadata": {
        "id": "zK0Elz9LS8kl"
      },
      "source": [
        "## get data"
      ]
    },
    {
      "cell_type": "code",
      "execution_count": 1,
      "metadata": {
        "id": "bVEqcjoLiza7",
        "colab": {
          "base_uri": "https://localhost:8080/"
        },
        "outputId": "f8a436ae-8cf7-4b84-f6c7-41f4b1e2de86",
        "cellView": "form"
      },
      "outputs": [
        {
          "output_type": "stream",
          "name": "stdout",
          "text": [
            "Mounted at /content/drive\n"
          ]
        }
      ],
      "source": [
        "from google.colab import drive\n",
        "drive.mount('/content/drive')\n",
        "from climate_learn.data import download\n",
        "from mmap import ACCESS_READ\n",
        "#@title def download_copernicus\n",
        "# Standard library\n",
        "import argparse\n",
        "import os\n",
        "import subprocess\n",
        "\n",
        "# Local application\n",
        "#from .constants import NAME_TO_CMIP\n",
        "\n",
        "# Third party\n",
        "import cdsapi\n",
        "\n",
        "\n",
        "months = [str(i).rjust(2, \"0\") for i in range(1, 13)]\n",
        "days = [str(i).rjust(2, \"0\") for i in range(1, 32)]\n",
        "times = [str(i).rjust(2, \"0\") + \":00\" for i in range(0, 24)]\n",
        "\n",
        "# TODO: write exceptions in the docstrings\n",
        "# TODO: figure out how to better specify legal args for dataset, variable,\n",
        "#   and resolution\n",
        "# TODO: for download ESGF, do we have to download all the years?\n",
        "# TODO: can main even be run without runtime warning? maybe we should get rid of it\n",
        "\n",
        "\n",
        "def download_copernicus(root, dataset, variable, year, resolution, area, pressure=False, api_key=None):\n",
        "    \"\"\"Downloads data from the Copernicus Climate Data Store (CDS).\n",
        "        Data is stored at `root/dataset/variable/` as NetCDF4 (`.nc`) files.\n",
        "        Skips the download if a file of the expected naming convention already\n",
        "        exists at the download destination. More info:\n",
        "        https://cds.climate.copernicus.eu/cdsapp#!/home\n",
        "\n",
        "    :param root: The root data directory.\n",
        "    :type root: str\n",
        "    :param dataset: The dataset to download. Currently, only \"era5\" is\n",
        "        supported.\n",
        "    :type dataset: str\n",
        "    :param variable: The variable to download from the specified dataset.\n",
        "    :type variable: str\n",
        "    :param pressure: Whether to download data from different pressure levels\n",
        "        instead of single-level. Defaults to `False`.\n",
        "    :type pressure: bool, optional\n",
        "    :param api_key: An API key for accessing CDS. Defaults to `None`. See here\n",
        "        for more info: https://cds.climate.copernicus.eu/api-how-to.\n",
        "    :type api_key: str, optional\n",
        "    \"\"\"\n",
        "    if dataset not in [\"era5\"]:\n",
        "        raise Exception(\"Dataset not supported\")\n",
        "\n",
        "    if api_key is not None:\n",
        "        content = f\"url: https://cds.climate.copernicus.eu/api/v2\\nkey: {api_key}\"\n",
        "        open(f\"{os.environ['HOME']}/.cdsapirc\", \"w\").write(content)\n",
        "\n",
        "    path = os.path.join(root, dataset, resolution, variable, f\"{variable}_{year}_{resolution}deg.nc\")\n",
        "    print(\n",
        "        f\"Downloading {dataset} {variable} data for year {year} from copernicus to {path}\"\n",
        "    )\n",
        "\n",
        "    if os.path.exists(path):\n",
        "        return\n",
        "\n",
        "    os.makedirs(os.path.dirname(path), exist_ok=True)\n",
        "\n",
        "    download_args = {\n",
        "        \"product_type\": \"reanalysis\",\n",
        "        \"format\": \"netcdf\",\n",
        "        \"variable\": variable,\n",
        "        \"year\": str(year),\n",
        "        \"month\": months,\n",
        "        \"day\": days,\n",
        "        \"time\": times,\n",
        "        \"area\": area,\n",
        "        \"grid\": [str(resolution), str(resolution)]\n",
        "    }\n",
        "\n",
        "    client = cdsapi.Client()\n",
        "\n",
        "    if not pressure:\n",
        "        client.retrieve(\n",
        "            \"reanalysis-era5-single-levels\",\n",
        "            download_args,\n",
        "            path,\n",
        "        )\n",
        "    else:\n",
        "        download_args[\"pressure_level\"] = [1000, 850, 500, 50]\n",
        "        client.retrieve(\n",
        "            \"reanalysis-era5-pressure-levels\",\n",
        "            download_args,\n",
        "            path,\n",
        "        )\n"
      ]
    },
    {
      "cell_type": "markdown",
      "metadata": {
        "id": "cOzbYkjsFX7P"
      },
      "source": [
        "**This code below is used to download the regional copernicus data. The years and areas should be defined on your own. The API KEY would be achieved by registering an account[here](https://cds.climate.copernicus.eu/user/register). After that, you will find your api_key from [here](https://cds.climate.copernicus.eu/api-how-to).![捕获.PNG](data:image/png;base64,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):**"
      ]
    },
    {
      "cell_type": "code",
      "execution_count": null,
      "metadata": {
        "id": "-0qL41CHx0HK",
        "cellView": "form"
      },
      "outputs": [],
      "source": [
        "#@title # Loop over the years and download the data for each year  ERA5 { run: \"auto\" }\n",
        "# Define the years list\n",
        "years = []\n",
        "for y in range(2013, 2023):\n",
        "    years.append(str(y))\n",
        "\n",
        "# Define the API key\n",
        "api_key = \"180983:a058354a-5f89-4482-b477-248d762e109c\" # Change to your_api_key\n",
        "\n",
        "# Define the root directory for data downloads\n",
        "root_dir = \"/content/drive/MyDrive/Climate/.climate_tutorial\"\n",
        "\n",
        "# Define the dataset and variable to download\n",
        "\n",
        "\n",
        "\n",
        "dataset = \"era5\"\n",
        "variable = \"2m_temperature\"\n",
        "\n",
        "#This method of selecting an area of interest can be seen here.: https://youtu.be/EIe7IBMqhsw\n",
        "'''\n",
        "The area list corresponds to the latitude and longitude boundaries of the region of interest in the xarray dataset.\n",
        "\n",
        "The first and third elements of the area list correspond to the minimum and maximum latitude values of the region of interest, respectively. In this case, the minimum latitude is -5.2 and the maximum latitude is 31.\n",
        "\n",
        "The second and fourth elements of the area list correspond to the minimum and maximum longitude values of the region of interest, respectively. In this case, the minimum longitude is 34 and the maximum longitude is 45.\n",
        "\n",
        "The latitude and longitude coordinates in the xarray dataset should fall within these boundary values to be considered part of the region of interest.\n",
        "\n",
        "'''\n",
        "\n",
        "\n",
        "area = [42, -81, 45, -78]\n",
        "\n",
        "resolution = str(0.05)\n",
        "\n",
        "# Loop over the years and download the data for each year\n",
        "for i, year in enumerate(years):\n",
        "    #download_copernicus(root=root_dir, dataset=dataset, variable=variable, year=year, api_key=api_key)\n",
        "    download_copernicus(root=root_dir, dataset=dataset, variable=variable, year=year, resolution=resolution, area=area, pressure=False, api_key=api_key)\n"
      ]
    },
    {
      "cell_type": "code",
      "execution_count": 2,
      "metadata": {
        "id": "UWpiRzZwRsjR"
      },
      "outputs": [],
      "source": [
        "import climetlab as cml\n",
        "#data = cml.load_source(\"2m_temperature_2013_0.25deg.nc\", \"/content/drive/MyDrive/Climate/.climate_tutorial/era5/2m_temperature57_5.625deg.nc\")\n",
        "#\"file\" means we would like to open the data files directly, so we remain unchanged it in our cases, the second position is the data file path, which I highly recommend saving on Google Drive.\n",
        "source = cml.load_source(\"file\", \"/content/drive/MyDrive/Climate/.climate_tutorial/era5/0.05/2m_temperature/2m_temperature_2013_0.05deg.nc\")"
      ]
    },
    {
      "cell_type": "code",
      "execution_count": 3,
      "metadata": {
        "colab": {
          "base_uri": "https://localhost:8080/",
          "height": 697
        },
        "id": "4M49angcR62l",
        "outputId": "08dec541-d80d-486b-9d02-f308b4ab9b0d"
      },
      "outputs": [
        {
          "output_type": "display_data",
          "data": {
            "image/png": "[encoded data removed]",
            "text/plain": [
              "<IPython.core.display.Image object>"
            ]
          },
          "metadata": {
            "image/png": {
              "width": 680
            }
          }
        }
      ],
      "source": [
        "cml.plot_map((source[2], source[3]))"
      ]
    },
    {
      "cell_type": "code",
      "execution_count": null,
      "metadata": {
        "id": "GPdmMNiLSTqQ"
      },
      "outputs": [],
      "source": [
        "for s in source:\n",
        "    cml.plot_map(s)"
      ]
    },
    {
      "cell_type": "code",
      "execution_count": null,
      "metadata": {
        "id": "K5dJ_swaSmQ3"
      },
      "outputs": [],
      "source": [
        "source.to_xarray()"
      ]
    },
    {
      "cell_type": "markdown",
      "metadata": {
        "id": "Zb1e8ndtXiV-"
      },
      "source": [
        "ERA5 dataset directory structure from the Weatherbench source.\n",
        "\n",
        "```\n",
        "|-- 5.625deg\n",
        "|   |-- 2m_temperature\n",
        "|       |-- 2m_temperature_1979_5.625deg.nc\n",
        "|       |-- 2m_temperature_1980_5.625deg.nc\n",
        "|       |-- ...\n",
        "|       |-- 2m_temperature_2018_5.625deg.nc\n",
        "```"
      ]
    },
    {
      "cell_type": "markdown",
      "metadata": {
        "id": "bSt6h_Q-oqjK"
      },
      "source": [
        "## Data Preprocessing\n"
      ]
    },
    {
      "cell_type": "markdown",
      "metadata": {
        "id": "O8OF_Oj60a2g"
      },
      "source": [
        "The data is stored in the [NetCDF](https://en.wikipedia.org/wiki/NetCDF) files with _.nc_ extension. One of the distinct features of this format is the **named** specification to the coordinates and the data variables. \n",
        "\n",
        "As shown below, we first merge all the yearly NetCDF files, and display the structure of the format. xarray library is used to read the NetCDF files. It allows the users to manipulate data based on more informative labels instead of integer location. \n",
        "\n"
      ]
    },
    {
      "cell_type": "code",
      "execution_count": 4,
      "metadata": {
        "colab": {
          "base_uri": "https://localhost:8080/",
          "height": 0
        },
        "id": "rJgoRHBITVEV",
        "outputId": "556ad69d-e556-4efa-d6c6-22e71f841292"
      },
      "outputs": [
        {
          "output_type": "display_data",
          "data": {
            "text/plain": [
              "<xarray.Dataset>\n",
              "Dimensions:    (longitude: 61, latitude: 61, time: 87648)\n",
              "Coordinates:\n",
              "  * longitude  (longitude) float32 -81.0 -80.95 -80.9 ... -78.1 -78.05 -78.0\n",
              "  * latitude   (latitude) float32 45.0 44.95 44.9 44.85 ... 42.1 42.05 42.0\n",
              "  * time       (time) datetime64[ns] 2013-01-01 ... 2022-12-31T23:00:00\n",
              "Data variables:\n",
              "    t2m        (time, latitude, longitude) float32 dask.array<chunksize=(8760, 61, 61), meta=np.ndarray>\n",
              "Attributes:\n",
              "    Conventions:  CF-1.6\n",
              "    history:      2023-03-06 20:10:52 GMT by grib_to_netcdf-2.25.1: /opt/ecmw..."
            ],
            "text/html": [
              "<div><svg style=\"position: absolute; width: 0; height: 0; overflow: hidden\">\n",
              "<defs>\n",
              "<symbol id=\"icon-database\" viewBox=\"0 0 32 32\">\n",
              "<path d=\"M16 0c-8.837 0-16 2.239-16 5v4c0 2.761 7.163 5 16 5s16-2.239 16-5v-4c0-2.761-7.163-5-16-5z\"></path>\n",
              "<path d=\"M16 17c-8.837 0-16-2.239-16-5v6c0 2.761 7.163 5 16 5s16-2.239 16-5v-6c0 2.761-7.163 5-16 5z\"></path>\n",
              "<path d=\"M16 26c-8.837 0-16-2.239-16-5v6c0 2.761 7.163 5 16 5s16-2.239 16-5v-6c0 2.761-7.163 5-16 5z\"></path>\n",
              "</symbol>\n",
              "<symbol id=\"icon-file-text2\" viewBox=\"0 0 32 32\">\n",
              "<path d=\"M28.681 7.159c-0.694-0.947-1.662-2.053-2.724-3.116s-2.169-2.030-3.116-2.724c-1.612-1.182-2.393-1.319-2.841-1.319h-15.5c-1.378 0-2.5 1.121-2.5 2.5v27c0 1.378 1.122 2.5 2.5 2.5h23c1.378 0 2.5-1.122 2.5-2.5v-19.5c0-0.448-0.137-1.23-1.319-2.841zM24.543 5.457c0.959 0.959 1.712 1.825 2.268 2.543h-4.811v-4.811c0.718 0.556 1.584 1.309 2.543 2.268zM28 29.5c0 0.271-0.229 0.5-0.5 0.5h-23c-0.271 0-0.5-0.229-0.5-0.5v-27c0-0.271 0.229-0.5 0.5-0.5 0 0 15.499-0 15.5 0v7c0 0.552 0.448 1 1 1h7v19.5z\"></path>\n",
              "<path d=\"M23 26h-14c-0.552 0-1-0.448-1-1s0.448-1 1-1h14c0.552 0 1 0.448 1 1s-0.448 1-1 1z\"></path>\n",
              "<path d=\"M23 22h-14c-0.552 0-1-0.448-1-1s0.448-1 1-1h14c0.552 0 1 0.448 1 1s-0.448 1-1 1z\"></path>\n",
              "<path d=\"M23 18h-14c-0.552 0-1-0.448-1-1s0.448-1 1-1h14c0.552 0 1 0.448 1 1s-0.448 1-1 1z\"></path>\n",
              "</symbol>\n",
              "</defs>\n",
              "</svg>\n",
              "<style>/* CSS stylesheet for displaying xarray objects in jupyterlab.\n",
              " *\n",
              " */\n",
              "\n",
              ":root {\n",
              "  --xr-font-color0: var(--jp-content-font-color0, rgba(0, 0, 0, 1));\n",
              "  --xr-font-color2: var(--jp-content-font-color2, rgba(0, 0, 0, 0.54));\n",
              "  --xr-font-color3: var(--jp-content-font-color3, rgba(0, 0, 0, 0.38));\n",
              "  --xr-border-color: var(--jp-border-color2, #e0e0e0);\n",
              "  --xr-disabled-color: var(--jp-layout-color3, #bdbdbd);\n",
              "  --xr-background-color: var(--jp-layout-color0, white);\n",
              "  --xr-background-color-row-even: var(--jp-layout-color1, white);\n",
              "  --xr-background-color-row-odd: var(--jp-layout-color2, #eeeeee);\n",
              "}\n",
              "\n",
              "html[theme=dark],\n",
              "body[data-theme=dark],\n",
              "body.vscode-dark {\n",
              "  --xr-font-color0: rgba(255, 255, 255, 1);\n",
              "  --xr-font-color2: rgba(255, 255, 255, 0.54);\n",
              "  --xr-font-color3: rgba(255, 255, 255, 0.38);\n",
              "  --xr-border-color: #1F1F1F;\n",
              "  --xr-disabled-color: #515151;\n",
              "  --xr-background-color: #111111;\n",
              "  --xr-background-color-row-even: #111111;\n",
              "  --xr-background-color-row-odd: #313131;\n",
              "}\n",
              "\n",
              ".xr-wrap {\n",
              "  display: block !important;\n",
              "  min-width: 300px;\n",
              "  max-width: 700px;\n",
              "}\n",
              "\n",
              ".xr-text-repr-fallback {\n",
              "  /* fallback to plain text repr when CSS is not injected (untrusted notebook) */\n",
              "  display: none;\n",
              "}\n",
              "\n",
              ".xr-header {\n",
              "  padding-top: 6px;\n",
              "  padding-bottom: 6px;\n",
              "  margin-bottom: 4px;\n",
              "  border-bottom: solid 1px var(--xr-border-color);\n",
              "}\n",
              "\n",
              ".xr-header > div,\n",
              ".xr-header > ul {\n",
              "  display: inline;\n",
              "  margin-top: 0;\n",
              "  margin-bottom: 0;\n",
              "}\n",
              "\n",
              ".xr-obj-type,\n",
              ".xr-array-name {\n",
              "  margin-left: 2px;\n",
              "  margin-right: 10px;\n",
              "}\n",
              "\n",
              ".xr-obj-type {\n",
              "  color: var(--xr-font-color2);\n",
              "}\n",
              "\n",
              ".xr-sections {\n",
              "  padding-left: 0 !important;\n",
              "  display: grid;\n",
              "  grid-template-columns: 150px auto auto 1fr 20px 20px;\n",
              "}\n",
              "\n",
              ".xr-section-item {\n",
              "  display: contents;\n",
              "}\n",
              "\n",
              ".xr-section-item input {\n",
              "  display: none;\n",
              "}\n",
              "\n",
              ".xr-section-item input + label {\n",
              "  color: var(--xr-disabled-color);\n",
              "}\n",
              "\n",
              ".xr-section-item input:enabled + label {\n",
              "  cursor: pointer;\n",
              "  color: var(--xr-font-color2);\n",
              "}\n",
              "\n",
              ".xr-section-item input:enabled + label:hover {\n",
              "  color: var(--xr-font-color0);\n",
              "}\n",
              "\n",
              ".xr-section-summary {\n",
              "  grid-column: 1;\n",
              "  color: var(--xr-font-color2);\n",
              "  font-weight: 500;\n",
              "}\n",
              "\n",
              ".xr-section-summary > span {\n",
              "  display: inline-block;\n",
              "  padding-left: 0.5em;\n",
              "}\n",
              "\n",
              ".xr-section-summary-in:disabled + label {\n",
              "  color: var(--xr-font-color2);\n",
              "}\n",
              "\n",
              ".xr-section-summary-in + label:before {\n",
              "  display: inline-block;\n",
              "  content: '►';\n",
              "  font-size: 11px;\n",
              "  width: 15px;\n",
              "  text-align: center;\n",
              "}\n",
              "\n",
              ".xr-section-summary-in:disabled + label:before {\n",
              "  color: var(--xr-disabled-color);\n",
              "}\n",
              "\n",
              ".xr-section-summary-in:checked + label:before {\n",
              "  content: '▼';\n",
              "}\n",
              "\n",
              ".xr-section-summary-in:checked + label > span {\n",
              "  display: none;\n",
              "}\n",
              "\n",
              ".xr-section-summary,\n",
              ".xr-section-inline-details {\n",
              "  padding-top: 4px;\n",
              "  padding-bottom: 4px;\n",
              "}\n",
              "\n",
              ".xr-section-inline-details {\n",
              "  grid-column: 2 / -1;\n",
              "}\n",
              "\n",
              ".xr-section-details {\n",
              "  display: none;\n",
              "  grid-column: 1 / -1;\n",
              "  margin-bottom: 5px;\n",
              "}\n",
              "\n",
              ".xr-section-summary-in:checked ~ .xr-section-details {\n",
              "  display: contents;\n",
              "}\n",
              "\n",
              ".xr-array-wrap {\n",
              "  grid-column: 1 / -1;\n",
              "  display: grid;\n",
              "  grid-template-columns: 20px auto;\n",
              "}\n",
              "\n",
              ".xr-array-wrap > label {\n",
              "  grid-column: 1;\n",
              "  vertical-align: top;\n",
              "}\n",
              "\n",
              ".xr-preview {\n",
              "  color: var(--xr-font-color3);\n",
              "}\n",
              "\n",
              ".xr-array-preview,\n",
              ".xr-array-data {\n",
              "  padding: 0 5px !important;\n",
              "  grid-column: 2;\n",
              "}\n",
              "\n",
              ".xr-array-data,\n",
              ".xr-array-in:checked ~ .xr-array-preview {\n",
              "  display: none;\n",
              "}\n",
              "\n",
              ".xr-array-in:checked ~ .xr-array-data,\n",
              ".xr-array-preview {\n",
              "  display: inline-block;\n",
              "}\n",
              "\n",
              ".xr-dim-list {\n",
              "  display: inline-block !important;\n",
              "  list-style: none;\n",
              "  padding: 0 !important;\n",
              "  margin: 0;\n",
              "}\n",
              "\n",
              ".xr-dim-list li {\n",
              "  display: inline-block;\n",
              "  padding: 0;\n",
              "  margin: 0;\n",
              "}\n",
              "\n",
              ".xr-dim-list:before {\n",
              "  content: '(';\n",
              "}\n",
              "\n",
              ".xr-dim-list:after {\n",
              "  content: ')';\n",
              "}\n",
              "\n",
              ".xr-dim-list li:not(:last-child):after {\n",
              "  content: ',';\n",
              "  padding-right: 5px;\n",
              "}\n",
              "\n",
              ".xr-has-index {\n",
              "  font-weight: bold;\n",
              "}\n",
              "\n",
              ".xr-var-list,\n",
              ".xr-var-item {\n",
              "  display: contents;\n",
              "}\n",
              "\n",
              ".xr-var-item > div,\n",
              ".xr-var-item label,\n",
              ".xr-var-item > .xr-var-name span {\n",
              "  background-color: var(--xr-background-color-row-even);\n",
              "  margin-bottom: 0;\n",
              "}\n",
              "\n",
              ".xr-var-item > .xr-var-name:hover span {\n",
              "  padding-right: 5px;\n",
              "}\n",
              "\n",
              ".xr-var-list > li:nth-child(odd) > div,\n",
              ".xr-var-list > li:nth-child(odd) > label,\n",
              ".xr-var-list > li:nth-child(odd) > .xr-var-name span {\n",
              "  background-color: var(--xr-background-color-row-odd);\n",
              "}\n",
              "\n",
              ".xr-var-name {\n",
              "  grid-column: 1;\n",
              "}\n",
              "\n",
              ".xr-var-dims {\n",
              "  grid-column: 2;\n",
              "}\n",
              "\n",
              ".xr-var-dtype {\n",
              "  grid-column: 3;\n",
              "  text-align: right;\n",
              "  color: var(--xr-font-color2);\n",
              "}\n",
              "\n",
              ".xr-var-preview {\n",
              "  grid-column: 4;\n",
              "}\n",
              "\n",
              ".xr-index-preview {\n",
              "  grid-column: 2 / 5;\n",
              "  color: var(--xr-font-color2);\n",
              "}\n",
              "\n",
              ".xr-var-name,\n",
              ".xr-var-dims,\n",
              ".xr-var-dtype,\n",
              ".xr-preview,\n",
              ".xr-attrs dt {\n",
              "  white-space: nowrap;\n",
              "  overflow: hidden;\n",
              "  text-overflow: ellipsis;\n",
              "  padding-right: 10px;\n",
              "}\n",
              "\n",
              ".xr-var-name:hover,\n",
              ".xr-var-dims:hover,\n",
              ".xr-var-dtype:hover,\n",
              ".xr-attrs dt:hover {\n",
              "  overflow: visible;\n",
              "  width: auto;\n",
              "  z-index: 1;\n",
              "}\n",
              "\n",
              ".xr-var-attrs,\n",
              ".xr-var-data,\n",
              ".xr-index-data {\n",
              "  display: none;\n",
              "  background-color: var(--xr-background-color) !important;\n",
              "  padding-bottom: 5px !important;\n",
              "}\n",
              "\n",
              ".xr-var-attrs-in:checked ~ .xr-var-attrs,\n",
              ".xr-var-data-in:checked ~ .xr-var-data,\n",
              ".xr-index-data-in:checked ~ .xr-index-data {\n",
              "  display: block;\n",
              "}\n",
              "\n",
              ".xr-var-data > table {\n",
              "  float: right;\n",
              "}\n",
              "\n",
              ".xr-var-name span,\n",
              ".xr-var-data,\n",
              ".xr-index-name div,\n",
              ".xr-index-data,\n",
              ".xr-attrs {\n",
              "  padding-left: 25px !important;\n",
              "}\n",
              "\n",
              ".xr-attrs,\n",
              ".xr-var-attrs,\n",
              ".xr-var-data,\n",
              ".xr-index-data {\n",
              "  grid-column: 1 / -1;\n",
              "}\n",
              "\n",
              "dl.xr-attrs {\n",
              "  padding: 0;\n",
              "  margin: 0;\n",
              "  display: grid;\n",
              "  grid-template-columns: 125px auto;\n",
              "}\n",
              "\n",
              ".xr-attrs dt,\n",
              ".xr-attrs dd {\n",
              "  padding: 0;\n",
              "  margin: 0;\n",
              "  float: left;\n",
              "  padding-right: 10px;\n",
              "  width: auto;\n",
              "}\n",
              "\n",
              ".xr-attrs dt {\n",
              "  font-weight: normal;\n",
              "  grid-column: 1;\n",
              "}\n",
              "\n",
              ".xr-attrs dt:hover span {\n",
              "  display: inline-block;\n",
              "  background: var(--xr-background-color);\n",
              "  padding-right: 10px;\n",
              "}\n",
              "\n",
              ".xr-attrs dd {\n",
              "  grid-column: 2;\n",
              "  white-space: pre-wrap;\n",
              "  word-break: break-all;\n",
              "}\n",
              "\n",
              ".xr-icon-database,\n",
              ".xr-icon-file-text2,\n",
              ".xr-no-icon {\n",
              "  display: inline-block;\n",
              "  vertical-align: middle;\n",
              "  width: 1em;\n",
              "  height: 1.5em !important;\n",
              "  stroke-width: 0;\n",
              "  stroke: currentColor;\n",
              "  fill: currentColor;\n",
              "}\n",
              "</style><pre class='xr-text-repr-fallback'>&lt;xarray.Dataset&gt;\n",
              "Dimensions:    (longitude: 61, latitude: 61, time: 87648)\n",
              "Coordinates:\n",
              "  * longitude  (longitude) float32 -81.0 -80.95 -80.9 ... -78.1 -78.05 -78.0\n",
              "  * latitude   (latitude) float32 45.0 44.95 44.9 44.85 ... 42.1 42.05 42.0\n",
              "  * time       (time) datetime64[ns] 2013-01-01 ... 2022-12-31T23:00:00\n",
              "Data variables:\n",
              "    t2m        (time, latitude, longitude) float32 dask.array&lt;chunksize=(8760, 61, 61), meta=np.ndarray&gt;\n",
              "Attributes:\n",
              "    Conventions:  CF-1.6\n",
              "    history:      2023-03-06 20:10:52 GMT by grib_to_netcdf-2.25.1: /opt/ecmw...</pre><div class='xr-wrap' style='display:none'><div class='xr-header'><div class='xr-obj-type'>xarray.Dataset</div></div><ul class='xr-sections'><li class='xr-section-item'><input id='section-74f4d2b9-fb9f-4060-be6b-2e7d2b907876' class='xr-section-summary-in' type='checkbox' disabled ><label for='section-74f4d2b9-fb9f-4060-be6b-2e7d2b907876' class='xr-section-summary'  title='Expand/collapse section'>Dimensions:</label><div class='xr-section-inline-details'><ul class='xr-dim-list'><li><span class='xr-has-index'>longitude</span>: 61</li><li><span class='xr-has-index'>latitude</span>: 61</li><li><span class='xr-has-index'>time</span>: 87648</li></ul></div><div class='xr-section-details'></div></li><li class='xr-section-item'><input id='section-d6b62d74-b829-4772-b44a-fd35b249fdfa' class='xr-section-summary-in' type='checkbox'  checked><label for='section-d6b62d74-b829-4772-b44a-fd35b249fdfa' class='xr-section-summary' >Coordinates: <span>(3)</span></label><div class='xr-section-inline-details'></div><div class='xr-section-details'><ul class='xr-var-list'><li class='xr-var-item'><div class='xr-var-name'><span class='xr-has-index'>longitude</span></div><div class='xr-var-dims'>(longitude)</div><div class='xr-var-dtype'>float32</div><div class='xr-var-preview xr-preview'>-81.0 -80.95 -80.9 ... -78.05 -78.0</div><input id='attrs-fc5c94e2-cc94-4a1b-ac40-b4213adab33a' class='xr-var-attrs-in' type='checkbox' ><label for='attrs-fc5c94e2-cc94-4a1b-ac40-b4213adab33a' title='Show/Hide attributes'><svg class='icon xr-icon-file-text2'><use xlink:href='#icon-file-text2'></use></svg></label><input id='data-197409ca-b814-4914-b0dd-6c69ea396695' class='xr-var-data-in' type='checkbox'><label for='data-197409ca-b814-4914-b0dd-6c69ea396695' title='Show/Hide data repr'><svg class='icon xr-icon-database'><use xlink:href='#icon-database'></use></svg></label><div class='xr-var-attrs'><dl class='xr-attrs'><dt><span>units :</span></dt><dd>degrees_east</dd><dt><span>long_name :</span></dt><dd>longitude</dd></dl></div><div class='xr-var-data'><pre>array([-81.  , -80.95, -80.9 , -80.85, -80.8 , -80.75, -80.7 , -80.65, -80.6 ,\n",
              "       -80.55, -80.5 , -80.45, -80.4 , -80.35, -80.3 , -80.25, -80.2 , -80.15,\n",
              "       -80.1 , -80.05, -80.  , -79.95, -79.9 , -79.85, -79.8 , -79.75, -79.7 ,\n",
              "       -79.65, -79.6 , -79.55, -79.5 , -79.45, -79.4 , -79.35, -79.3 , -79.25,\n",
              "       -79.2 , -79.15, -79.1 , -79.05, -79.  , -78.95, -78.9 , -78.85, -78.8 ,\n",
              "       -78.75, -78.7 , -78.65, -78.6 , -78.55, -78.5 , -78.45, -78.4 , -78.35,\n",
              "       -78.3 , -78.25, -78.2 , -78.15, -78.1 , -78.05, -78.  ], dtype=float32)</pre></div></li><li class='xr-var-item'><div class='xr-var-name'><span class='xr-has-index'>latitude</span></div><div class='xr-var-dims'>(latitude)</div><div class='xr-var-dtype'>float32</div><div class='xr-var-preview xr-preview'>45.0 44.95 44.9 ... 42.1 42.05 42.0</div><input id='attrs-e82183cd-5b85-4c5b-bd24-ef51c521b836' class='xr-var-attrs-in' type='checkbox' ><label for='attrs-e82183cd-5b85-4c5b-bd24-ef51c521b836' title='Show/Hide attributes'><svg class='icon xr-icon-file-text2'><use xlink:href='#icon-file-text2'></use></svg></label><input id='data-a45c91fd-7d8a-4586-b12d-efef90f42e1e' class='xr-var-data-in' type='checkbox'><label for='data-a45c91fd-7d8a-4586-b12d-efef90f42e1e' title='Show/Hide data repr'><svg class='icon xr-icon-database'><use xlink:href='#icon-database'></use></svg></label><div class='xr-var-attrs'><dl class='xr-attrs'><dt><span>units :</span></dt><dd>degrees_north</dd><dt><span>long_name :</span></dt><dd>latitude</dd></dl></div><div class='xr-var-data'><pre>array([45.  , 44.95, 44.9 , 44.85, 44.8 , 44.75, 44.7 , 44.65, 44.6 , 44.55,\n",
              "       44.5 , 44.45, 44.4 , 44.35, 44.3 , 44.25, 44.2 , 44.15, 44.1 , 44.05,\n",
              "       44.  , 43.95, 43.9 , 43.85, 43.8 , 43.75, 43.7 , 43.65, 43.6 , 43.55,\n",
              "       43.5 , 43.45, 43.4 , 43.35, 43.3 , 43.25, 43.2 , 43.15, 43.1 , 43.05,\n",
              "       43.  , 42.95, 42.9 , 42.85, 42.8 , 42.75, 42.7 , 42.65, 42.6 , 42.55,\n",
              "       42.5 , 42.45, 42.4 , 42.35, 42.3 , 42.25, 42.2 , 42.15, 42.1 , 42.05,\n",
              "       42.  ], dtype=float32)</pre></div></li><li class='xr-var-item'><div class='xr-var-name'><span class='xr-has-index'>time</span></div><div class='xr-var-dims'>(time)</div><div class='xr-var-dtype'>datetime64[ns]</div><div class='xr-var-preview xr-preview'>2013-01-01 ... 2022-12-31T23:00:00</div><input id='attrs-97139caa-02c3-4cee-81c6-107c39ba8445' class='xr-var-attrs-in' type='checkbox' ><label for='attrs-97139caa-02c3-4cee-81c6-107c39ba8445' title='Show/Hide attributes'><svg class='icon xr-icon-file-text2'><use xlink:href='#icon-file-text2'></use></svg></label><input id='data-280e39db-4b2e-4bb9-8548-c56b869305eb' class='xr-var-data-in' type='checkbox'><label for='data-280e39db-4b2e-4bb9-8548-c56b869305eb' title='Show/Hide data repr'><svg class='icon xr-icon-database'><use xlink:href='#icon-database'></use></svg></label><div class='xr-var-attrs'><dl class='xr-attrs'><dt><span>long_name :</span></dt><dd>time</dd></dl></div><div class='xr-var-data'><pre>array([&#x27;2013-01-01T00:00:00.000000000&#x27;, &#x27;2013-01-01T01:00:00.000000000&#x27;,\n",
              "       &#x27;2013-01-01T02:00:00.000000000&#x27;, ..., &#x27;2022-12-31T21:00:00.000000000&#x27;,\n",
              "       &#x27;2022-12-31T22:00:00.000000000&#x27;, &#x27;2022-12-31T23:00:00.000000000&#x27;],\n",
              "      dtype=&#x27;datetime64[ns]&#x27;)</pre></div></li></ul></div></li><li class='xr-section-item'><input id='section-5bbc5586-595e-46df-b410-17cacbaddc51' class='xr-section-summary-in' type='checkbox'  checked><label for='section-5bbc5586-595e-46df-b410-17cacbaddc51' class='xr-section-summary' >Data variables: <span>(1)</span></label><div class='xr-section-inline-details'></div><div class='xr-section-details'><ul class='xr-var-list'><li class='xr-var-item'><div class='xr-var-name'><span>t2m</span></div><div class='xr-var-dims'>(time, latitude, longitude)</div><div class='xr-var-dtype'>float32</div><div class='xr-var-preview xr-preview'>dask.array&lt;chunksize=(8760, 61, 61), meta=np.ndarray&gt;</div><input id='attrs-ea52cf08-9f3f-48bd-bed4-aa3aa3408c36' class='xr-var-attrs-in' type='checkbox' ><label for='attrs-ea52cf08-9f3f-48bd-bed4-aa3aa3408c36' title='Show/Hide attributes'><svg class='icon xr-icon-file-text2'><use xlink:href='#icon-file-text2'></use></svg></label><input id='data-4cf518f2-7a53-40d3-9e30-f24048a4b1c8' class='xr-var-data-in' type='checkbox'><label for='data-4cf518f2-7a53-40d3-9e30-f24048a4b1c8' title='Show/Hide data repr'><svg class='icon xr-icon-database'><use xlink:href='#icon-database'></use></svg></label><div class='xr-var-attrs'><dl class='xr-attrs'><dt><span>units :</span></dt><dd>K</dd><dt><span>long_name :</span></dt><dd>2 metre temperature</dd></dl></div><div class='xr-var-data'><table>\n",
              "    <tr>\n",
              "        <td>\n",
              "            <table>\n",
              "                <thead>\n",
              "                    <tr>\n",
              "                        <td> </td>\n",
              "                        <th> Array </th>\n",
              "                        <th> Chunk </th>\n",
              "                    </tr>\n",
              "                </thead>\n",
              "                <tbody>\n",
              "                    \n",
              "                    <tr>\n",
              "                        <th> Bytes </th>\n",
              "                        <td> 1.21 GiB </td>\n",
              "                        <td> 124.68 MiB </td>\n",
              "                    </tr>\n",
              "                    \n",
              "                    <tr>\n",
              "                        <th> Shape </th>\n",
              "                        <td> (87648, 61, 61) </td>\n",
              "                        <td> (8784, 61, 61) </td>\n",
              "                    </tr>\n",
              "                    <tr>\n",
              "                        <th> Count </th>\n",
              "                        <td> 30 Tasks </td>\n",
              "                        <td> 10 Chunks </td>\n",
              "                    </tr>\n",
              "                    <tr>\n",
              "                    <th> Type </th>\n",
              "                    <td> float32 </td>\n",
              "                    <td> numpy.ndarray </td>\n",
              "                    </tr>\n",
              "                </tbody>\n",
              "            </table>\n",
              "        </td>\n",
              "        <td>\n",
              "        <svg width=\"156\" height=\"146\" style=\"stroke:rgb(0,0,0);stroke-width:1\" >\n",
              "\n",
              "  <!-- Horizontal lines -->\n",
              "  <line x1=\"10\" y1=\"0\" x2=\"80\" y2=\"70\" style=\"stroke-width:2\" />\n",
              "  <line x1=\"10\" y1=\"25\" x2=\"80\" y2=\"96\" style=\"stroke-width:2\" />\n",
              "\n",
              "  <!-- Vertical lines -->\n",
              "  <line x1=\"10\" y1=\"0\" x2=\"10\" y2=\"25\" style=\"stroke-width:2\" />\n",
              "  <line x1=\"17\" y1=\"7\" x2=\"17\" y2=\"32\" />\n",
              "  <line x1=\"24\" y1=\"14\" x2=\"24\" y2=\"39\" />\n",
              "  <line x1=\"31\" y1=\"21\" x2=\"31\" y2=\"46\" />\n",
              "  <line x1=\"38\" y1=\"28\" x2=\"38\" y2=\"53\" />\n",
              "  <line x1=\"45\" y1=\"35\" x2=\"45\" y2=\"60\" />\n",
              "  <line x1=\"52\" y1=\"42\" x2=\"52\" y2=\"67\" />\n",
              "  <line x1=\"59\" y1=\"49\" x2=\"59\" y2=\"74\" />\n",
              "  <line x1=\"66\" y1=\"56\" x2=\"66\" y2=\"81\" />\n",
              "  <line x1=\"73\" y1=\"63\" x2=\"73\" y2=\"88\" />\n",
              "  <line x1=\"80\" y1=\"70\" x2=\"80\" y2=\"96\" style=\"stroke-width:2\" />\n",
              "\n",
              "  <!-- Colored Rectangle -->\n",
              "  <polygon points=\"10.0,0.0 80.58823529411765,70.58823529411765 80.58823529411765,96.00085180870013 10.0,25.412616514582485\" style=\"fill:#ECB172A0;stroke-width:0\"/>\n",
              "\n",
              "  <!-- Horizontal lines -->\n",
              "  <line x1=\"10\" y1=\"0\" x2=\"35\" y2=\"0\" style=\"stroke-width:2\" />\n",
              "  <line x1=\"17\" y1=\"7\" x2=\"42\" y2=\"7\" />\n",
              "  <line x1=\"24\" y1=\"14\" x2=\"49\" y2=\"14\" />\n",
              "  <line x1=\"31\" y1=\"21\" x2=\"56\" y2=\"21\" />\n",
              "  <line x1=\"38\" y1=\"28\" x2=\"63\" y2=\"28\" />\n",
              "  <line x1=\"45\" y1=\"35\" x2=\"70\" y2=\"35\" />\n",
              "  <line x1=\"52\" y1=\"42\" x2=\"77\" y2=\"42\" />\n",
              "  <line x1=\"59\" y1=\"49\" x2=\"84\" y2=\"49\" />\n",
              "  <line x1=\"66\" y1=\"56\" x2=\"91\" y2=\"56\" />\n",
              "  <line x1=\"73\" y1=\"63\" x2=\"98\" y2=\"63\" />\n",
              "  <line x1=\"80\" y1=\"70\" x2=\"106\" y2=\"70\" style=\"stroke-width:2\" />\n",
              "\n",
              "  <!-- Vertical lines -->\n",
              "  <line x1=\"10\" y1=\"0\" x2=\"80\" y2=\"70\" style=\"stroke-width:2\" />\n",
              "  <line x1=\"35\" y1=\"0\" x2=\"106\" y2=\"70\" style=\"stroke-width:2\" />\n",
              "\n",
              "  <!-- Colored Rectangle -->\n",
              "  <polygon points=\"10.0,0.0 35.41261651458248,0.0 106.00085180870013,70.58823529411765 80.58823529411765,70.58823529411765\" style=\"fill:#ECB172A0;stroke-width:0\"/>\n",
              "\n",
              "  <!-- Horizontal lines -->\n",
              "  <line x1=\"80\" y1=\"70\" x2=\"106\" y2=\"70\" style=\"stroke-width:2\" />\n",
              "  <line x1=\"80\" y1=\"96\" x2=\"106\" y2=\"96\" style=\"stroke-width:2\" />\n",
              "\n",
              "  <!-- Vertical lines -->\n",
              "  <line x1=\"80\" y1=\"70\" x2=\"80\" y2=\"96\" style=\"stroke-width:2\" />\n",
              "  <line x1=\"106\" y1=\"70\" x2=\"106\" y2=\"96\" style=\"stroke-width:2\" />\n",
              "\n",
              "  <!-- Colored Rectangle -->\n",
              "  <polygon points=\"80.58823529411765,70.58823529411765 106.00085180870013,70.58823529411765 106.00085180870013,96.00085180870013 80.58823529411765,96.00085180870013\" style=\"fill:#ECB172A0;stroke-width:0\"/>\n",
              "\n",
              "  <!-- Text -->\n",
              "  <text x=\"93.294544\" y=\"116.000852\" font-size=\"1.0rem\" font-weight=\"100\" text-anchor=\"middle\" >61</text>\n",
              "  <text x=\"126.000852\" y=\"83.294544\" font-size=\"1.0rem\" font-weight=\"100\" text-anchor=\"middle\" transform=\"rotate(0,126.000852,83.294544)\">61</text>\n",
              "  <text x=\"35.294118\" y=\"80.706734\" font-size=\"1.0rem\" font-weight=\"100\" text-anchor=\"middle\" transform=\"rotate(45,35.294118,80.706734)\">87648</text>\n",
              "</svg>\n",
              "        </td>\n",
              "    </tr>\n",
              "</table></div></li></ul></div></li><li class='xr-section-item'><input id='section-29a7916d-df63-4915-8688-e42835e036fd' class='xr-section-summary-in' type='checkbox'  ><label for='section-29a7916d-df63-4915-8688-e42835e036fd' class='xr-section-summary' >Indexes: <span>(3)</span></label><div class='xr-section-inline-details'></div><div class='xr-section-details'><ul class='xr-var-list'><li class='xr-var-item'><div class='xr-index-name'><div>longitude</div></div><div class='xr-index-preview'>PandasIndex</div><div></div><input id='index-b9faf75e-298d-425a-91f6-81afd7bc7ed5' class='xr-index-data-in' type='checkbox'/><label for='index-b9faf75e-298d-425a-91f6-81afd7bc7ed5' title='Show/Hide index repr'><svg class='icon xr-icon-database'><use xlink:href='#icon-database'></use></svg></label><div class='xr-index-data'><pre>PandasIndex(Float64Index([             -81.0, -80.94999694824219,  -80.9000015258789,\n",
              "               -80.8499984741211, -80.80000305175781,             -80.75,\n",
              "              -80.69999694824219,  -80.6500015258789,  -80.5999984741211,\n",
              "              -80.55000305175781,              -80.5, -80.44999694824219,\n",
              "               -80.4000015258789,  -80.3499984741211, -80.30000305175781,\n",
              "                          -80.25, -80.19999694824219,  -80.1500015258789,\n",
              "               -80.0999984741211, -80.05000305175781,              -80.0,\n",
              "              -79.94999694824219,  -79.9000015258789,  -79.8499984741211,\n",
              "              -79.80000305175781,             -79.75, -79.69999694824219,\n",
              "               -79.6500015258789,  -79.5999984741211, -79.55000305175781,\n",
              "                           -79.5, -79.44999694824219,  -79.4000015258789,\n",
              "               -79.3499984741211, -79.30000305175781,             -79.25,\n",
              "              -79.19999694824219,  -79.1500015258789,  -79.0999984741211,\n",
              "              -79.05000305175781,              -79.0, -78.94999694824219,\n",
              "               -78.9000015258789,  -78.8499984741211, -78.80000305175781,\n",
              "                          -78.75, -78.69999694824219,  -78.6500015258789,\n",
              "               -78.5999984741211, -78.55000305175781,              -78.5,\n",
              "              -78.44999694824219,  -78.4000015258789,  -78.3499984741211,\n",
              "              -78.30000305175781,             -78.25, -78.19999694824219,\n",
              "               -78.1500015258789,  -78.0999984741211, -78.05000305175781,\n",
              "                           -78.0],\n",
              "             dtype=&#x27;float64&#x27;, name=&#x27;longitude&#x27;))</pre></div></li><li class='xr-var-item'><div class='xr-index-name'><div>latitude</div></div><div class='xr-index-preview'>PandasIndex</div><div></div><input id='index-e9368059-03b8-4a56-b996-e13e95799c62' class='xr-index-data-in' type='checkbox'/><label for='index-e9368059-03b8-4a56-b996-e13e95799c62' title='Show/Hide index repr'><svg class='icon xr-icon-database'><use xlink:href='#icon-database'></use></svg></label><div class='xr-index-data'><pre>PandasIndex(Float64Index([              45.0,  44.95000076293945, 44.900001525878906,\n",
              "              44.849998474121094,  44.79999923706055,              44.75,\n",
              "               44.70000076293945, 44.650001525878906, 44.599998474121094,\n",
              "               44.54999923706055,               44.5,  44.45000076293945,\n",
              "              44.400001525878906, 44.349998474121094,  44.29999923706055,\n",
              "                           44.25,  44.20000076293945, 44.150001525878906,\n",
              "              44.099998474121094,  44.04999923706055,               44.0,\n",
              "               43.95000076293945, 43.900001525878906, 43.849998474121094,\n",
              "               43.79999923706055,              43.75,  43.70000076293945,\n",
              "              43.650001525878906, 43.599998474121094,  43.54999923706055,\n",
              "                            43.5,  43.45000076293945, 43.400001525878906,\n",
              "              43.349998474121094,  43.29999923706055,              43.25,\n",
              "               43.20000076293945, 43.150001525878906, 43.099998474121094,\n",
              "               43.04999923706055,               43.0,  42.95000076293945,\n",
              "              42.900001525878906, 42.849998474121094,  42.79999923706055,\n",
              "                           42.75,  42.70000076293945, 42.650001525878906,\n",
              "              42.599998474121094,  42.54999923706055,               42.5,\n",
              "               42.45000076293945, 42.400001525878906, 42.349998474121094,\n",
              "               42.29999923706055,              42.25,  42.20000076293945,\n",
              "              42.150001525878906, 42.099998474121094,  42.04999923706055,\n",
              "                            42.0],\n",
              "             dtype=&#x27;float64&#x27;, name=&#x27;latitude&#x27;))</pre></div></li><li class='xr-var-item'><div class='xr-index-name'><div>time</div></div><div class='xr-index-preview'>PandasIndex</div><div></div><input id='index-24dfabde-defa-40fb-b00d-ea7fe34005ef' class='xr-index-data-in' type='checkbox'/><label for='index-24dfabde-defa-40fb-b00d-ea7fe34005ef' title='Show/Hide index repr'><svg class='icon xr-icon-database'><use xlink:href='#icon-database'></use></svg></label><div class='xr-index-data'><pre>PandasIndex(DatetimeIndex([&#x27;2013-01-01 00:00:00&#x27;, &#x27;2013-01-01 01:00:00&#x27;,\n",
              "               &#x27;2013-01-01 02:00:00&#x27;, &#x27;2013-01-01 03:00:00&#x27;,\n",
              "               &#x27;2013-01-01 04:00:00&#x27;, &#x27;2013-01-01 05:00:00&#x27;,\n",
              "               &#x27;2013-01-01 06:00:00&#x27;, &#x27;2013-01-01 07:00:00&#x27;,\n",
              "               &#x27;2013-01-01 08:00:00&#x27;, &#x27;2013-01-01 09:00:00&#x27;,\n",
              "               ...\n",
              "               &#x27;2022-12-31 14:00:00&#x27;, &#x27;2022-12-31 15:00:00&#x27;,\n",
              "               &#x27;2022-12-31 16:00:00&#x27;, &#x27;2022-12-31 17:00:00&#x27;,\n",
              "               &#x27;2022-12-31 18:00:00&#x27;, &#x27;2022-12-31 19:00:00&#x27;,\n",
              "               &#x27;2022-12-31 20:00:00&#x27;, &#x27;2022-12-31 21:00:00&#x27;,\n",
              "               &#x27;2022-12-31 22:00:00&#x27;, &#x27;2022-12-31 23:00:00&#x27;],\n",
              "              dtype=&#x27;datetime64[ns]&#x27;, name=&#x27;time&#x27;, length=87648, freq=None))</pre></div></li></ul></div></li><li class='xr-section-item'><input id='section-843ed5cf-f476-44fa-a517-0cf916d58839' class='xr-section-summary-in' type='checkbox'  checked><label for='section-843ed5cf-f476-44fa-a517-0cf916d58839' class='xr-section-summary' >Attributes: <span>(2)</span></label><div class='xr-section-inline-details'></div><div class='xr-section-details'><dl class='xr-attrs'><dt><span>Conventions :</span></dt><dd>CF-1.6</dd><dt><span>history :</span></dt><dd>2023-03-06 20:10:52 GMT by grib_to_netcdf-2.25.1: /opt/ecmwf/mars-client/bin/grib_to_netcdf.bin -S param -o /cache/data5/adaptor.mars.internal-1678133417.8220413-28897-11-cc289576-d7e1-4130-9598-2018ccbbb00f.nc /cache/tmp/cc289576-d7e1-4130-9598-2018ccbbb00f-adaptor.mars.internal-1678133035.9890063-28897-13-tmp.grib</dd></dl></div></li></ul></div></div>"
            ]
          },
          "metadata": {}
        }
      ],
      "source": [
        "from climate_learn.utils.data import load_dataset, view\n",
        "dataset2 = load_dataset(\"/content/drive/MyDrive/Climate/.climate_tutorial/era5/0.05/2m_temperature/\")\n",
        "view(dataset2)"
      ]
    },
    {
      "cell_type": "markdown",
      "metadata": {
        "id": "3XM3rITW9Y3-"
      },
      "source": [
        "## Data Conversion\n",
        "We further convert the *NetCDF* files to *PyTorch* Dataloaders.\n",
        "\n",
        "**Pros**: We can use the dataloaders for training and evaluating neural networks.\\\n",
        "**Cons**: We loose useful meta information (such as 'time', 'location') during conversion as dataloaders only allow for integer location based treatment. \n",
        "\n",
        "We store the useful information about\n",
        " the data ('lat', 'long') of the regions as _data members_ of our dataloaders.\n",
        "\n",
        "\n",
        "\n"
      ]
    },
    {
      "cell_type": "code",
      "execution_count": 5,
      "metadata": {
        "colab": {
          "base_uri": "https://localhost:8080/"
        },
        "id": "3e-bxnEEwQWW",
        "outputId": "790d2e6b-789f-4611-c05e-f34900cc6de9"
      },
      "outputs": [
        {
          "output_type": "stream",
          "name": "stdout",
          "text": [
            "Creating train dataset\n"
          ]
        },
        {
          "output_type": "stream",
          "name": "stderr",
          "text": [
            "100%|██████████| 7/7 [00:00<00:00, 38.10it/s]\n"
          ]
        },
        {
          "output_type": "stream",
          "name": "stdout",
          "text": [
            "Creating val dataset\n"
          ]
        },
        {
          "output_type": "stream",
          "name": "stderr",
          "text": [
            "100%|██████████| 1/1 [00:00<00:00, 49.82it/s]\n"
          ]
        },
        {
          "output_type": "stream",
          "name": "stdout",
          "text": [
            "Creating test dataset\n"
          ]
        },
        {
          "output_type": "stream",
          "name": "stderr",
          "text": [
            "100%|██████████| 2/2 [00:00<00:00, 35.58it/s]\n"
          ]
        }
      ],
      "source": [
        "from climate_learn.utils.datetime import Year, Days, Hours\n",
        "from climate_learn.data.climate_dataset.args import ERA5Args\n",
        "from climate_learn.data.tasks.args import ForecastingArgs\n",
        "from climate_learn.data import DataModuleArgs, DataModule\n",
        "\n",
        "\n",
        "data_args = ERA5Args(\n",
        "    root_dir = \"/content/drive/MyDrive/Climate/.climate_tutorial/era5/2m_temperature/0.05/\",\n",
        "    #root_dir = \"/content/drive/MyDrive/Climate/.climate_tutorial/data/weatherbench/era5/5.625/\",\n",
        "    #root_dir = \"/content/drive/MyDrive/Climate/.climate_tutorial/era5/\",\n",
        "    variables = [\"2m_temperature\"],\n",
        "    years = range(2013, 2022),\n",
        ")\n",
        "\n",
        "data_args = ERA5Args(\n",
        "    #root_dir = \"/content/drive/MyDrive/Climate/.climate_tutorial/era5/2m_temperature/0.05/\",\n",
        "    root_dir = \"/content/drive/MyDrive/Climate/.climate_tutorial/era5/0.05/\",\n",
        "    #Downloading era5 2m_temperature data for year 2013 from copernicus to /content/drive/MyDrive/Climate/.climate_tutorial/era5/0.05/\n",
        "    #root_dir = \"/content/drive/MyDrive/Climate/.climate_tutorial/data/weatherbench/era5/5.625/\",\n",
        "    #root_dir = \"/content/drive/MyDrive/Climate/.climate_tutorial/era5/\",\n",
        "    variables = [\"2m_temperature\"],\n",
        "    years = range(2013, 2022),\n",
        ")\n",
        "forecasting_args = ForecastingArgs(\n",
        "    dataset_args = data_args,\n",
        "    in_vars = [\"2m_temperature\"],\n",
        "    out_vars = [\"2m_temperature\"],\n",
        "    pred_range = 3*24,\n",
        "    subsample = 6,\n",
        ")\n",
        "\n",
        "data_module_args = DataModuleArgs(\n",
        "    task_args = forecasting_args,\n",
        "    train_start_year = 2013,\n",
        "    val_start_year = 2020,\n",
        "    test_start_year = 2021,\n",
        "    end_year = 2022,\n",
        ")\n",
        "\n",
        "data_module = DataModule(\n",
        "    data_module_args = data_module_args,\n",
        "    batch_size = 128,\n",
        "    num_workers = 1\n",
        ")\n"
      ]
    },
    {
      "cell_type": "markdown",
      "metadata": {
        "id": "HSmL7IIgC_8S"
      },
      "source": []
    },
    {
      "cell_type": "markdown",
      "metadata": {
        "id": "qkbdxMN8DABO"
      },
      "source": []
    },
    {
      "cell_type": "code",
      "execution_count": 6,
      "metadata": {
        "colab": {
          "base_uri": "https://localhost:8080/"
        },
        "id": "sbB6zQUzHWSE",
        "outputId": "8f4e4f7f-e1b6-4c97-d26b-3352b4ef53bb"
      },
      "outputs": [
        {
          "output_type": "stream",
          "name": "stdout",
          "text": [
            "<class 'climate_learn.data.module.DataModule'>\n"
          ]
        }
      ],
      "source": [
        "print(DataModule)"
      ]
    },
    {
      "cell_type": "markdown",
      "metadata": {
        "id": "yWXsiZ5freTG"
      },
      "source": [
        "## Model initialization \n",
        "\n",
        "The hyperparameters and ResNet architecture chosen allow for a model that forecasts with 85.7% test accuracy, while still training within a reasonable amount of time for the sake of the tutorial (by nature of being a smaller model). We leave it to the user to perform a more exhaustive search of hyperparameter values for training models that perform better."
      ]
    },
    {
      "cell_type": "code",
      "execution_count": 7,
      "metadata": {
        "id": "vFzshbrR61wy"
      },
      "outputs": [],
      "source": [
        "from climate_learn.models import load_model\n",
        "\n",
        "model_kwargs = {\n",
        "    \"in_channels\": len(data_module.hparams.data_module_args.train_task_args.in_vars),\n",
        "    \"out_channels\": len(data_module.hparams.data_module_args.train_task_args.out_vars),\n",
        "    \"n_blocks\": 4\n",
        "}\n",
        "\n",
        "optim_kwargs = {\n",
        "    \"lr\": 1e-4,\n",
        "    \"weight_decay\": 1e-5,\n",
        "    \"warmup_epochs\": 1,\n",
        "    \"max_epochs\": 5,\n",
        "}\n",
        "\n",
        "model_module = load_model(name = \"resnet\", task = \"forecasting\", model_kwargs = model_kwargs, optim_kwargs = optim_kwargs)\n",
        "#model_module = load_model(name = \"vit\", task = \"forecasting\", model_kwargs = model_kwargs, optim_kwargs = optim_kwargs)"
      ]
    },
    {
      "cell_type": "code",
      "execution_count": 8,
      "metadata": {
        "colab": {
          "base_uri": "https://localhost:8080/",
          "height": 0
        },
        "id": "paTI33tP5R4H",
        "outputId": "790e9645-87b9-4c79-fecf-a696a7fe6cad"
      },
      "outputs": [
        {
          "output_type": "execute_result",
          "data": {
            "text/plain": [
              "'\\nfrom climate_learn.models import load_model\\n\\n# model_kwargs = {\\n#     \"img_size\": [32, 64],\\n#     \"patch_size\": 2,\\n#     \"drop_path\": 0.1,\\n#     \"drop_rate\": 0.1,\\n#     \"learn_pos_emb\": True,\\n#     \"in_vars\": data_module.hparams.in_vars,\\n#     \"out_vars\": data_module.hparams.out_vars,\\n#     \"embed_dim\": 128,\\n#     \"depth\": 8,\\n#     \"decoder_depth\": 0,\\n#     \"num_heads\": 4,\\n#     \"mlp_ratio\": 4,\\n# }\\n\\nmodel_kwargs = {\\n    \"in_channels\": len(data_module.hparams.in_vars),\\n    \"out_channels\": len(data_module.hparams.out_vars),\\n    \"n_blocks\": 4\\n}\\n\\noptim_kwargs = {\\n    \"lr\": 1e-4,\\n    \"weight_decay\": 1e-5,\\n    \"warmup_epochs\": 1,\\n    \"max_epochs\": 5,\\n}\\n\\n# model_module = load_model(name = \"vit\", task = \"forecasting\", model_kwargs = model_kwargs, optim_kwargs = optim_kwargs)\\nmodel_module = load_model(name = \"resnet\", task = \"forecasting\", model_kwargs = model_kwargs, optim_kwargs = optim_kwargs)\\n# model_module = load_model(name = \"unet\", task = \"forecasting\", model_kwargs = model_kwargs, optim_kwargs = optim_kwargs)\\n'"
            ],
            "application/vnd.google.colaboratory.intrinsic+json": {
              "type": "string"
            }
          },
          "metadata": {},
          "execution_count": 8
        }
      ],
      "source": [
        "'''\n",
        "from climate_learn.models import load_model\n",
        "\n",
        "# model_kwargs = {\n",
        "#     \"img_size\": [32, 64],\n",
        "#     \"patch_size\": 2,\n",
        "#     \"drop_path\": 0.1,\n",
        "#     \"drop_rate\": 0.1,\n",
        "#     \"learn_pos_emb\": True,\n",
        "#     \"in_vars\": data_module.hparams.in_vars,\n",
        "#     \"out_vars\": data_module.hparams.out_vars,\n",
        "#     \"embed_dim\": 128,\n",
        "#     \"depth\": 8,\n",
        "#     \"decoder_depth\": 0,\n",
        "#     \"num_heads\": 4,\n",
        "#     \"mlp_ratio\": 4,\n",
        "# }\n",
        "\n",
        "model_kwargs = {\n",
        "    \"in_channels\": len(data_module.hparams.in_vars),\n",
        "    \"out_channels\": len(data_module.hparams.out_vars),\n",
        "    \"n_blocks\": 4\n",
        "}\n",
        "\n",
        "optim_kwargs = {\n",
        "    \"lr\": 1e-4,\n",
        "    \"weight_decay\": 1e-5,\n",
        "    \"warmup_epochs\": 1,\n",
        "    \"max_epochs\": 5,\n",
        "}\n",
        "\n",
        "# model_module = load_model(name = \"vit\", task = \"forecasting\", model_kwargs = model_kwargs, optim_kwargs = optim_kwargs)\n",
        "model_module = load_model(name = \"resnet\", task = \"forecasting\", model_kwargs = model_kwargs, optim_kwargs = optim_kwargs)\n",
        "# model_module = load_model(name = \"unet\", task = \"forecasting\", model_kwargs = model_kwargs, optim_kwargs = optim_kwargs)\n",
        "'''"
      ]
    },
    {
      "cell_type": "code",
      "execution_count": 9,
      "metadata": {
        "id": "BalFce--51Rh"
      },
      "outputs": [],
      "source": [
        "from climate_learn.models import set_climatology\n",
        "set_climatology(model_module, data_module)"
      ]
    },
    {
      "cell_type": "markdown",
      "metadata": {
        "id": "MLxhgSOctxo4"
      },
      "source": [
        "## Training\n",
        "\n",
        "\n",
        "The training objective ensures that the machine learning model makes accurate forecasts over the gridded data. We employ latitude weighted RMSE given by:\n",
        "\n",
        "<br>\n",
        "$RMSE = \\frac{1}{N_{forecasts}}\\sum_{i}^{N_{forecasts}}\\sqrt{\\frac{1}{N_{lat}N_{lon}}\\sum_{j}^{N_{lat}}\\sum_{k}^{N_{lon}}L(j)(f_{i,j,k}-t_{i,j,k})^{2}} \\tag{1}$ \n",
        "<br>\n",
        "\n",
        "where $f$ is the model forecast and $t$ is the ERA5 truth. $L(j)$ is the latitude weighing factor at the $j^{th}$ latitude index:\n",
        "\n",
        "<br>\n",
        "$L(j) = \\frac{cos(lat(j))}{\\frac{1}{N_{lat}}\\sum_{j}^{N_{lat}}cos(lat(j))} \\tag{2}$\n",
        "<br>\n",
        "\n"
      ]
    },
    {
      "cell_type": "code",
      "execution_count": 10,
      "metadata": {
        "colab": {
          "base_uri": "https://localhost:8080/"
        },
        "id": "oqh0TzP4TebP",
        "outputId": "8bf22078-3c7f-4377-e275-f3aa24839c86"
      },
      "outputs": [
        {
          "output_type": "stream",
          "name": "stderr",
          "text": [
            "INFO:lightning_fabric.utilities.seed:Global seed set to 0\n"
          ]
        }
      ],
      "source": [
        "from climate_learn.training import Trainer, WandbLogger\n",
        "\n",
        "trainer = Trainer(\n",
        "    seed = 0,\n",
        "    accelerator = \"gpu\",\n",
        "    precision = 16,\n",
        "    max_epochs = 5,\n",
        "    # logger = WandbLogger(project = \"climate_tutorial\", name = \"forecast-vit\")\n",
        ")"
      ]
    },
    {
      "cell_type": "code",
      "execution_count": 11,
      "metadata": {
        "colab": {
          "base_uri": "https://localhost:8080/",
          "height": 1000,
          "referenced_widgets": [
            "55366fb8bb5d4a93974a5caa79e417c1",
            "a524546d31bd44aabc68a57462977f65"
          ]
        },
        "id": "BwZ49aNGhhUt",
        "outputId": "7e7e989b-b59e-4f55-c672-63e0d320d7aa"
      },
      "outputs": [
        {
          "output_type": "display_data",
          "data": {
            "text/plain": [
              "┏━━━━┳━━━━━━━━━━━━━━━━━━━━━━━━━━━━┳━━━━━━━━━━━━━━━━━━━┳━━━━━━━━┓\n",
              "┃\u001b[1;35m \u001b[0m\u001b[1;35m  \u001b[0m\u001b[1;35m \u001b[0m┃\u001b[1;35m \u001b[0m\u001b[1;35mName                      \u001b[0m\u001b[1;35m \u001b[0m┃\u001b[1;35m \u001b[0m\u001b[1;35mType             \u001b[0m\u001b[1;35m \u001b[0m┃\u001b[1;35m \u001b[0m\u001b[1;35mParams\u001b[0m\u001b[1;35m \u001b[0m┃\n",
              "┡━━━━╇━━━━━━━━━━━━━━━━━━━━━━━━━━━━╇━━━━━━━━━━━━━━━━━━━╇━━━━━━━━┩\n",
              "│\u001b[2m \u001b[0m\u001b[2m0 \u001b[0m\u001b[2m \u001b[0m│ net                        │ ResNet            │  1.2 M │\n",
              "│\u001b[2m \u001b[0m\u001b[2m1 \u001b[0m\u001b[2m \u001b[0m│ net.activation             │ LeakyReLU         │      0 │\n",
              "│\u001b[2m \u001b[0m\u001b[2m2 \u001b[0m\u001b[2m \u001b[0m│ net.image_proj             │ PeriodicConv2D    │  6.4 K │\n",
              "│\u001b[2m \u001b[0m\u001b[2m3 \u001b[0m\u001b[2m \u001b[0m│ net.image_proj.padding     │ PeriodicPadding2D │      0 │\n",
              "│\u001b[2m \u001b[0m\u001b[2m4 \u001b[0m\u001b[2m \u001b[0m│ net.image_proj.conv        │ Conv2d            │  6.4 K │\n",
              "│\u001b[2m \u001b[0m\u001b[2m5 \u001b[0m\u001b[2m \u001b[0m│ net.blocks                 │ ModuleList        │  1.2 M │\n",
              "│\u001b[2m \u001b[0m\u001b[2m6 \u001b[0m\u001b[2m \u001b[0m│ net.blocks.0               │ ResidualBlock     │  295 K │\n",
              "│\u001b[2m \u001b[0m\u001b[2m7 \u001b[0m\u001b[2m \u001b[0m│ net.blocks.0.activation    │ LeakyReLU         │      0 │\n",
              "│\u001b[2m \u001b[0m\u001b[2m8 \u001b[0m\u001b[2m \u001b[0m│ net.blocks.0.conv1         │ PeriodicConv2D    │  147 K │\n",
              "│\u001b[2m \u001b[0m\u001b[2m9 \u001b[0m\u001b[2m \u001b[0m│ net.blocks.0.conv1.padding │ PeriodicPadding2D │      0 │\n",
              "│\u001b[2m \u001b[0m\u001b[2m10\u001b[0m\u001b[2m \u001b[0m│ net.blocks.0.conv1.conv    │ Conv2d            │  147 K │\n",
              "│\u001b[2m \u001b[0m\u001b[2m11\u001b[0m\u001b[2m \u001b[0m│ net.blocks.0.conv2         │ PeriodicConv2D    │  147 K │\n",
              "│\u001b[2m \u001b[0m\u001b[2m12\u001b[0m\u001b[2m \u001b[0m│ net.blocks.0.conv2.padding │ PeriodicPadding2D │      0 │\n",
              "│\u001b[2m \u001b[0m\u001b[2m13\u001b[0m\u001b[2m \u001b[0m│ net.blocks.0.conv2.conv    │ Conv2d            │  147 K │\n",
              "│\u001b[2m \u001b[0m\u001b[2m14\u001b[0m\u001b[2m \u001b[0m│ net.blocks.0.shortcut      │ Identity          │      0 │\n",
              "│\u001b[2m \u001b[0m\u001b[2m15\u001b[0m\u001b[2m \u001b[0m│ net.blocks.0.norm1         │ BatchNorm2d       │    256 │\n",
              "│\u001b[2m \u001b[0m\u001b[2m16\u001b[0m\u001b[2m \u001b[0m│ net.blocks.0.norm2         │ BatchNorm2d       │    256 │\n",
              "│\u001b[2m \u001b[0m\u001b[2m17\u001b[0m\u001b[2m \u001b[0m│ net.blocks.0.drop          │ Dropout           │      0 │\n",
              "│\u001b[2m \u001b[0m\u001b[2m18\u001b[0m\u001b[2m \u001b[0m│ net.blocks.1               │ ResidualBlock     │  295 K │\n",
              "│\u001b[2m \u001b[0m\u001b[2m19\u001b[0m\u001b[2m \u001b[0m│ net.blocks.1.activation    │ LeakyReLU         │      0 │\n",
              "│\u001b[2m \u001b[0m\u001b[2m20\u001b[0m\u001b[2m \u001b[0m│ net.blocks.1.conv1         │ PeriodicConv2D    │  147 K │\n",
              "│\u001b[2m \u001b[0m\u001b[2m21\u001b[0m\u001b[2m \u001b[0m│ net.blocks.1.conv1.padding │ PeriodicPadding2D │      0 │\n",
              "│\u001b[2m \u001b[0m\u001b[2m22\u001b[0m\u001b[2m \u001b[0m│ net.blocks.1.conv1.conv    │ Conv2d            │  147 K │\n",
              "│\u001b[2m \u001b[0m\u001b[2m23\u001b[0m\u001b[2m \u001b[0m│ net.blocks.1.conv2         │ PeriodicConv2D    │  147 K │\n",
              "│\u001b[2m \u001b[0m\u001b[2m24\u001b[0m\u001b[2m \u001b[0m│ net.blocks.1.conv2.padding │ PeriodicPadding2D │      0 │\n",
              "│\u001b[2m \u001b[0m\u001b[2m25\u001b[0m\u001b[2m \u001b[0m│ net.blocks.1.conv2.conv    │ Conv2d            │  147 K │\n",
              "│\u001b[2m \u001b[0m\u001b[2m26\u001b[0m\u001b[2m \u001b[0m│ net.blocks.1.shortcut      │ Identity          │      0 │\n",
              "│\u001b[2m \u001b[0m\u001b[2m27\u001b[0m\u001b[2m \u001b[0m│ net.blocks.1.norm1         │ BatchNorm2d       │    256 │\n",
              "│\u001b[2m \u001b[0m\u001b[2m28\u001b[0m\u001b[2m \u001b[0m│ net.blocks.1.norm2         │ BatchNorm2d       │    256 │\n",
              "│\u001b[2m \u001b[0m\u001b[2m29\u001b[0m\u001b[2m \u001b[0m│ net.blocks.1.drop          │ Dropout           │      0 │\n",
              "│\u001b[2m \u001b[0m\u001b[2m30\u001b[0m\u001b[2m \u001b[0m│ net.blocks.2               │ ResidualBlock     │  295 K │\n",
              "│\u001b[2m \u001b[0m\u001b[2m31\u001b[0m\u001b[2m \u001b[0m│ net.blocks.2.activation    │ LeakyReLU         │      0 │\n",
              "│\u001b[2m \u001b[0m\u001b[2m32\u001b[0m\u001b[2m \u001b[0m│ net.blocks.2.conv1         │ PeriodicConv2D    │  147 K │\n",
              "│\u001b[2m \u001b[0m\u001b[2m33\u001b[0m\u001b[2m \u001b[0m│ net.blocks.2.conv1.padding │ PeriodicPadding2D │      0 │\n",
              "│\u001b[2m \u001b[0m\u001b[2m34\u001b[0m\u001b[2m \u001b[0m│ net.blocks.2.conv1.conv    │ Conv2d            │  147 K │\n",
              "│\u001b[2m \u001b[0m\u001b[2m35\u001b[0m\u001b[2m \u001b[0m│ net.blocks.2.conv2         │ PeriodicConv2D    │  147 K │\n",
              "│\u001b[2m \u001b[0m\u001b[2m36\u001b[0m\u001b[2m \u001b[0m│ net.blocks.2.conv2.padding │ PeriodicPadding2D │      0 │\n",
              "│\u001b[2m \u001b[0m\u001b[2m37\u001b[0m\u001b[2m \u001b[0m│ net.blocks.2.conv2.conv    │ Conv2d            │  147 K │\n",
              "│\u001b[2m \u001b[0m\u001b[2m38\u001b[0m\u001b[2m \u001b[0m│ net.blocks.2.shortcut      │ Identity          │      0 │\n",
              "│\u001b[2m \u001b[0m\u001b[2m39\u001b[0m\u001b[2m \u001b[0m│ net.blocks.2.norm1         │ BatchNorm2d       │    256 │\n",
              "│\u001b[2m \u001b[0m\u001b[2m40\u001b[0m\u001b[2m \u001b[0m│ net.blocks.2.norm2         │ BatchNorm2d       │    256 │\n",
              "│\u001b[2m \u001b[0m\u001b[2m41\u001b[0m\u001b[2m \u001b[0m│ net.blocks.2.drop          │ Dropout           │      0 │\n",
              "│\u001b[2m \u001b[0m\u001b[2m42\u001b[0m\u001b[2m \u001b[0m│ net.blocks.3               │ ResidualBlock     │  295 K │\n",
              "│\u001b[2m \u001b[0m\u001b[2m43\u001b[0m\u001b[2m \u001b[0m│ net.blocks.3.activation    │ LeakyReLU         │      0 │\n",
              "│\u001b[2m \u001b[0m\u001b[2m44\u001b[0m\u001b[2m \u001b[0m│ net.blocks.3.conv1         │ PeriodicConv2D    │  147 K │\n",
              "│\u001b[2m \u001b[0m\u001b[2m45\u001b[0m\u001b[2m \u001b[0m│ net.blocks.3.conv1.padding │ PeriodicPadding2D │      0 │\n",
              "│\u001b[2m \u001b[0m\u001b[2m46\u001b[0m\u001b[2m \u001b[0m│ net.blocks.3.conv1.conv    │ Conv2d            │  147 K │\n",
              "│\u001b[2m \u001b[0m\u001b[2m47\u001b[0m\u001b[2m \u001b[0m│ net.blocks.3.conv2         │ PeriodicConv2D    │  147 K │\n",
              "│\u001b[2m \u001b[0m\u001b[2m48\u001b[0m\u001b[2m \u001b[0m│ net.blocks.3.conv2.padding │ PeriodicPadding2D │      0 │\n",
              "│\u001b[2m \u001b[0m\u001b[2m49\u001b[0m\u001b[2m \u001b[0m│ net.blocks.3.conv2.conv    │ Conv2d            │  147 K │\n",
              "│\u001b[2m \u001b[0m\u001b[2m50\u001b[0m\u001b[2m \u001b[0m│ net.blocks.3.shortcut      │ Identity          │      0 │\n",
              "│\u001b[2m \u001b[0m\u001b[2m51\u001b[0m\u001b[2m \u001b[0m│ net.blocks.3.norm1         │ BatchNorm2d       │    256 │\n",
              "│\u001b[2m \u001b[0m\u001b[2m52\u001b[0m\u001b[2m \u001b[0m│ net.blocks.3.norm2         │ BatchNorm2d       │    256 │\n",
              "│\u001b[2m \u001b[0m\u001b[2m53\u001b[0m\u001b[2m \u001b[0m│ net.blocks.3.drop          │ Dropout           │      0 │\n",
              "│\u001b[2m \u001b[0m\u001b[2m54\u001b[0m\u001b[2m \u001b[0m│ net.norm                   │ BatchNorm2d       │    256 │\n",
              "│\u001b[2m \u001b[0m\u001b[2m55\u001b[0m\u001b[2m \u001b[0m│ net.final                  │ PeriodicConv2D    │  6.3 K │\n",
              "│\u001b[2m \u001b[0m\u001b[2m56\u001b[0m\u001b[2m \u001b[0m│ net.final.padding          │ PeriodicPadding2D │      0 │\n",
              "│\u001b[2m \u001b[0m\u001b[2m57\u001b[0m\u001b[2m \u001b[0m│ net.final.conv             │ Conv2d            │  6.3 K │\n",
              "│\u001b[2m \u001b[0m\u001b[2m58\u001b[0m\u001b[2m \u001b[0m│ denormalization            │ Normalize         │      0 │\n",
              "└────┴────────────────────────────┴───────────────────┴────────┘\n"
            ],
            "text/html": [
              "<pre style=\"white-space:pre;overflow-x:auto;line-height:normal;font-family:Menlo,'DejaVu Sans Mono',consolas,'Courier New',monospace\">┏━━━━┳━━━━━━━━━━━━━━━━━━━━━━━━━━━━┳━━━━━━━━━━━━━━━━━━━┳━━━━━━━━┓\n",
              "┃<span style=\"color: #800080; text-decoration-color: #800080; font-weight: bold\">    </span>┃<span style=\"color: #800080; text-decoration-color: #800080; font-weight: bold\"> Name                       </span>┃<span style=\"color: #800080; text-decoration-color: #800080; font-weight: bold\"> Type              </span>┃<span style=\"color: #800080; text-decoration-color: #800080; font-weight: bold\"> Params </span>┃\n",
              "┡━━━━╇━━━━━━━━━━━━━━━━━━━━━━━━━━━━╇━━━━━━━━━━━━━━━━━━━╇━━━━━━━━┩\n",
              "│<span style=\"color: #7f7f7f; text-decoration-color: #7f7f7f\"> 0  </span>│ net                        │ ResNet            │  1.2 M │\n",
              "│<span style=\"color: #7f7f7f; text-decoration-color: #7f7f7f\"> 1  </span>│ net.activation             │ LeakyReLU         │      0 │\n",
              "│<span style=\"color: #7f7f7f; text-decoration-color: #7f7f7f\"> 2  </span>│ net.image_proj             │ PeriodicConv2D    │  6.4 K │\n",
              "│<span style=\"color: #7f7f7f; text-decoration-color: #7f7f7f\"> 3  </span>│ net.image_proj.padding     │ PeriodicPadding2D │      0 │\n",
              "│<span style=\"color: #7f7f7f; text-decoration-color: #7f7f7f\"> 4  </span>│ net.image_proj.conv        │ Conv2d            │  6.4 K │\n",
              "│<span style=\"color: #7f7f7f; text-decoration-color: #7f7f7f\"> 5  </span>│ net.blocks                 │ ModuleList        │  1.2 M │\n",
              "│<span style=\"color: #7f7f7f; text-decoration-color: #7f7f7f\"> 6  </span>│ net.blocks.0               │ ResidualBlock     │  295 K │\n",
              "│<span style=\"color: #7f7f7f; text-decoration-color: #7f7f7f\"> 7  </span>│ net.blocks.0.activation    │ LeakyReLU         │      0 │\n",
              "│<span style=\"color: #7f7f7f; text-decoration-color: #7f7f7f\"> 8  </span>│ net.blocks.0.conv1         │ PeriodicConv2D    │  147 K │\n",
              "│<span style=\"color: #7f7f7f; text-decoration-color: #7f7f7f\"> 9  </span>│ net.blocks.0.conv1.padding │ PeriodicPadding2D │      0 │\n",
              "│<span style=\"color: #7f7f7f; text-decoration-color: #7f7f7f\"> 10 </span>│ net.blocks.0.conv1.conv    │ Conv2d            │  147 K │\n",
              "│<span style=\"color: #7f7f7f; text-decoration-color: #7f7f7f\"> 11 </span>│ net.blocks.0.conv2         │ PeriodicConv2D    │  147 K │\n",
              "│<span style=\"color: #7f7f7f; text-decoration-color: #7f7f7f\"> 12 </span>│ net.blocks.0.conv2.padding │ PeriodicPadding2D │      0 │\n",
              "│<span style=\"color: #7f7f7f; text-decoration-color: #7f7f7f\"> 13 </span>│ net.blocks.0.conv2.conv    │ Conv2d            │  147 K │\n",
              "│<span style=\"color: #7f7f7f; text-decoration-color: #7f7f7f\"> 14 </span>│ net.blocks.0.shortcut      │ Identity          │      0 │\n",
              "│<span style=\"color: #7f7f7f; text-decoration-color: #7f7f7f\"> 15 </span>│ net.blocks.0.norm1         │ BatchNorm2d       │    256 │\n",
              "│<span style=\"color: #7f7f7f; text-decoration-color: #7f7f7f\"> 16 </span>│ net.blocks.0.norm2         │ BatchNorm2d       │    256 │\n",
              "│<span style=\"color: #7f7f7f; text-decoration-color: #7f7f7f\"> 17 </span>│ net.blocks.0.drop          │ Dropout           │      0 │\n",
              "│<span style=\"color: #7f7f7f; text-decoration-color: #7f7f7f\"> 18 </span>│ net.blocks.1               │ ResidualBlock     │  295 K │\n",
              "│<span style=\"color: #7f7f7f; text-decoration-color: #7f7f7f\"> 19 </span>│ net.blocks.1.activation    │ LeakyReLU         │      0 │\n",
              "│<span style=\"color: #7f7f7f; text-decoration-color: #7f7f7f\"> 20 </span>│ net.blocks.1.conv1         │ PeriodicConv2D    │  147 K │\n",
              "│<span style=\"color: #7f7f7f; text-decoration-color: #7f7f7f\"> 21 </span>│ net.blocks.1.conv1.padding │ PeriodicPadding2D │      0 │\n",
              "│<span style=\"color: #7f7f7f; text-decoration-color: #7f7f7f\"> 22 </span>│ net.blocks.1.conv1.conv    │ Conv2d            │  147 K │\n",
              "│<span style=\"color: #7f7f7f; text-decoration-color: #7f7f7f\"> 23 </span>│ net.blocks.1.conv2         │ PeriodicConv2D    │  147 K │\n",
              "│<span style=\"color: #7f7f7f; text-decoration-color: #7f7f7f\"> 24 </span>│ net.blocks.1.conv2.padding │ PeriodicPadding2D │      0 │\n",
              "│<span style=\"color: #7f7f7f; text-decoration-color: #7f7f7f\"> 25 </span>│ net.blocks.1.conv2.conv    │ Conv2d            │  147 K │\n",
              "│<span style=\"color: #7f7f7f; text-decoration-color: #7f7f7f\"> 26 </span>│ net.blocks.1.shortcut      │ Identity          │      0 │\n",
              "│<span style=\"color: #7f7f7f; text-decoration-color: #7f7f7f\"> 27 </span>│ net.blocks.1.norm1         │ BatchNorm2d       │    256 │\n",
              "│<span style=\"color: #7f7f7f; text-decoration-color: #7f7f7f\"> 28 </span>│ net.blocks.1.norm2         │ BatchNorm2d       │    256 │\n",
              "│<span style=\"color: #7f7f7f; text-decoration-color: #7f7f7f\"> 29 </span>│ net.blocks.1.drop          │ Dropout           │      0 │\n",
              "│<span style=\"color: #7f7f7f; text-decoration-color: #7f7f7f\"> 30 </span>│ net.blocks.2               │ ResidualBlock     │  295 K │\n",
              "│<span style=\"color: #7f7f7f; text-decoration-color: #7f7f7f\"> 31 </span>│ net.blocks.2.activation    │ LeakyReLU         │      0 │\n",
              "│<span style=\"color: #7f7f7f; text-decoration-color: #7f7f7f\"> 32 </span>│ net.blocks.2.conv1         │ PeriodicConv2D    │  147 K │\n",
              "│<span style=\"color: #7f7f7f; text-decoration-color: #7f7f7f\"> 33 </span>│ net.blocks.2.conv1.padding │ PeriodicPadding2D │      0 │\n",
              "│<span style=\"color: #7f7f7f; text-decoration-color: #7f7f7f\"> 34 </span>│ net.blocks.2.conv1.conv    │ Conv2d            │  147 K │\n",
              "│<span style=\"color: #7f7f7f; text-decoration-color: #7f7f7f\"> 35 </span>│ net.blocks.2.conv2         │ PeriodicConv2D    │  147 K │\n",
              "│<span style=\"color: #7f7f7f; text-decoration-color: #7f7f7f\"> 36 </span>│ net.blocks.2.conv2.padding │ PeriodicPadding2D │      0 │\n",
              "│<span style=\"color: #7f7f7f; text-decoration-color: #7f7f7f\"> 37 </span>│ net.blocks.2.conv2.conv    │ Conv2d            │  147 K │\n",
              "│<span style=\"color: #7f7f7f; text-decoration-color: #7f7f7f\"> 38 </span>│ net.blocks.2.shortcut      │ Identity          │      0 │\n",
              "│<span style=\"color: #7f7f7f; text-decoration-color: #7f7f7f\"> 39 </span>│ net.blocks.2.norm1         │ BatchNorm2d       │    256 │\n",
              "│<span style=\"color: #7f7f7f; text-decoration-color: #7f7f7f\"> 40 </span>│ net.blocks.2.norm2         │ BatchNorm2d       │    256 │\n",
              "│<span style=\"color: #7f7f7f; text-decoration-color: #7f7f7f\"> 41 </span>│ net.blocks.2.drop          │ Dropout           │      0 │\n",
              "│<span style=\"color: #7f7f7f; text-decoration-color: #7f7f7f\"> 42 </span>│ net.blocks.3               │ ResidualBlock     │  295 K │\n",
              "│<span style=\"color: #7f7f7f; text-decoration-color: #7f7f7f\"> 43 </span>│ net.blocks.3.activation    │ LeakyReLU         │      0 │\n",
              "│<span style=\"color: #7f7f7f; text-decoration-color: #7f7f7f\"> 44 </span>│ net.blocks.3.conv1         │ PeriodicConv2D    │  147 K │\n",
              "│<span style=\"color: #7f7f7f; text-decoration-color: #7f7f7f\"> 45 </span>│ net.blocks.3.conv1.padding │ PeriodicPadding2D │      0 │\n",
              "│<span style=\"color: #7f7f7f; text-decoration-color: #7f7f7f\"> 46 </span>│ net.blocks.3.conv1.conv    │ Conv2d            │  147 K │\n",
              "│<span style=\"color: #7f7f7f; text-decoration-color: #7f7f7f\"> 47 </span>│ net.blocks.3.conv2         │ PeriodicConv2D    │  147 K │\n",
              "│<span style=\"color: #7f7f7f; text-decoration-color: #7f7f7f\"> 48 </span>│ net.blocks.3.conv2.padding │ PeriodicPadding2D │      0 │\n",
              "│<span style=\"color: #7f7f7f; text-decoration-color: #7f7f7f\"> 49 </span>│ net.blocks.3.conv2.conv    │ Conv2d            │  147 K │\n",
              "│<span style=\"color: #7f7f7f; text-decoration-color: #7f7f7f\"> 50 </span>│ net.blocks.3.shortcut      │ Identity          │      0 │\n",
              "│<span style=\"color: #7f7f7f; text-decoration-color: #7f7f7f\"> 51 </span>│ net.blocks.3.norm1         │ BatchNorm2d       │    256 │\n",
              "│<span style=\"color: #7f7f7f; text-decoration-color: #7f7f7f\"> 52 </span>│ net.blocks.3.norm2         │ BatchNorm2d       │    256 │\n",
              "│<span style=\"color: #7f7f7f; text-decoration-color: #7f7f7f\"> 53 </span>│ net.blocks.3.drop          │ Dropout           │      0 │\n",
              "│<span style=\"color: #7f7f7f; text-decoration-color: #7f7f7f\"> 54 </span>│ net.norm                   │ BatchNorm2d       │    256 │\n",
              "│<span style=\"color: #7f7f7f; text-decoration-color: #7f7f7f\"> 55 </span>│ net.final                  │ PeriodicConv2D    │  6.3 K │\n",
              "│<span style=\"color: #7f7f7f; text-decoration-color: #7f7f7f\"> 56 </span>│ net.final.padding          │ PeriodicPadding2D │      0 │\n",
              "│<span style=\"color: #7f7f7f; text-decoration-color: #7f7f7f\"> 57 </span>│ net.final.conv             │ Conv2d            │  6.3 K │\n",
              "│<span style=\"color: #7f7f7f; text-decoration-color: #7f7f7f\"> 58 </span>│ denormalization            │ Normalize         │      0 │\n",
              "└────┴────────────────────────────┴───────────────────┴────────┘\n",
              "</pre>\n"
            ]
          },
          "metadata": {}
        },
        {
          "output_type": "display_data",
          "data": {
            "text/plain": [
              "\u001b[1mTrainable params\u001b[0m: 1.2 M                                                                                            \n",
              "\u001b[1mNon-trainable params\u001b[0m: 0                                                                                            \n",
              "\u001b[1mTotal params\u001b[0m: 1.2 M                                                                                                \n",
              "\u001b[1mTotal estimated model params size (MB)\u001b[0m: 2                                                                          \n"
            ],
            "text/html": [
              "<pre style=\"white-space:pre;overflow-x:auto;line-height:normal;font-family:Menlo,'DejaVu Sans Mono',consolas,'Courier New',monospace\"><span style=\"font-weight: bold\">Trainable params</span>: 1.2 M                                                                                            \n",
              "<span style=\"font-weight: bold\">Non-trainable params</span>: 0                                                                                            \n",
              "<span style=\"font-weight: bold\">Total params</span>: 1.2 M                                                                                                \n",
              "<span style=\"font-weight: bold\">Total estimated model params size (MB)</span>: 2                                                                          \n",
              "</pre>\n"
            ]
          },
          "metadata": {}
        },
        {
          "output_type": "display_data",
          "data": {
            "text/plain": [
              "Output()"
            ],
            "application/vnd.jupyter.widget-view+json": {
              "version_major": 2,
              "version_minor": 0,
              "model_id": "55366fb8bb5d4a93974a5caa79e417c1"
            }
          },
          "metadata": {}
        },
        {
          "output_type": "display_data",
          "data": {
            "text/plain": [],
            "text/html": [
              "<pre style=\"white-space:pre;overflow-x:auto;line-height:normal;font-family:Menlo,'DejaVu Sans Mono',consolas,'Courier New',monospace\"></pre>\n"
            ]
          },
          "metadata": {}
        },
        {
          "output_type": "display_data",
          "data": {
            "text/plain": [
              "\n"
            ],
            "text/html": [
              "<pre style=\"white-space:pre;overflow-x:auto;line-height:normal;font-family:Menlo,'DejaVu Sans Mono',consolas,'Courier New',monospace\">\n",
              "</pre>\n"
            ]
          },
          "metadata": {}
        }
      ],
      "source": [
        "trainer.fit(model_module, data_module)"
      ]
    },
    {
      "cell_type": "markdown",
      "metadata": {
        "id": "fCR5yoIAUBTa"
      },
      "source": [
        "## Evaluation \n"
      ]
    },
    {
      "cell_type": "code",
      "execution_count": 12,
      "metadata": {
        "colab": {
          "base_uri": "https://localhost:8080/",
          "height": 242,
          "referenced_widgets": [
            "d2a478776b7e4afaba6e73e816c02e81",
            "0c0cd5c50d6c4153b329f1303a4377c2"
          ]
        },
        "id": "HvdXm85fa9KD",
        "outputId": "af0b9182-f482-428b-8adb-a52989a01ba8"
      },
      "outputs": [
        {
          "output_type": "display_data",
          "data": {
            "text/plain": [
              "Output()"
            ],
            "application/vnd.jupyter.widget-view+json": {
              "version_major": 2,
              "version_minor": 0,
              "model_id": "d2a478776b7e4afaba6e73e816c02e81"
            }
          },
          "metadata": {}
        },
        {
          "output_type": "display_data",
          "data": {
            "text/plain": [
              "┏━━━━━━━━━━━━━━━━━━━━━━━━━━━━━━━━━━━━━━━━━━━━━━━━━━━━━━━━┳━━━━━━━━━━━━━━━━━━━━━━━━━━━━━━━━━━━━━━━━━━━━━━━━━━━━━━━━┓\n",
              "┃\u001b[1m \u001b[0m\u001b[1m                     Test metric                      \u001b[0m\u001b[1m \u001b[0m┃\u001b[1m \u001b[0m\u001b[1m                     DataLoader 0                     \u001b[0m\u001b[1m \u001b[0m┃\n",
              "┡━━━━━━━━━━━━━━━━━━━━━━━━━━━━━━━━━━━━━━━━━━━━━━━━━━━━━━━━╇━━━━━━━━━━━━━━━━━━━━━━━━━━━━━━━━━━━━━━━━━━━━━━━━━━━━━━━━┩\n",
              "│\u001b[36m \u001b[0m\u001b[36m                       test/acc                       \u001b[0m\u001b[36m \u001b[0m│\u001b[35m \u001b[0m\u001b[35m                 0.21853359043598175                  \u001b[0m\u001b[35m \u001b[0m│\n",
              "│\u001b[36m \u001b[0m\u001b[36m           test/acc_2m_temperature_3.0_days           \u001b[0m\u001b[36m \u001b[0m│\u001b[35m \u001b[0m\u001b[35m                 0.21853359043598175                  \u001b[0m\u001b[35m \u001b[0m│\n",
              "│\u001b[36m \u001b[0m\u001b[36m                     test/w_rmse                      \u001b[0m\u001b[36m \u001b[0m│\u001b[35m \u001b[0m\u001b[35m                  4.585573673248291                   \u001b[0m\u001b[35m \u001b[0m│\n",
              "│\u001b[36m \u001b[0m\u001b[36m         test/w_rmse_2m_temperature_3.0_days          \u001b[0m\u001b[36m \u001b[0m│\u001b[35m \u001b[0m\u001b[35m                  4.585573673248291                   \u001b[0m\u001b[35m \u001b[0m│\n",
              "│\u001b[36m \u001b[0m\u001b[36m           test_climatology_baseline/w_rmse           \u001b[0m\u001b[36m \u001b[0m│\u001b[35m \u001b[0m\u001b[35m                  9.234206199645996                   \u001b[0m\u001b[35m \u001b[0m│\n",
              "│\u001b[36m \u001b[0m\u001b[36mtest_climatology_baseline/w_rmse_2m_temperature_3.0_d…\u001b[0m\u001b[36m \u001b[0m│\u001b[35m \u001b[0m\u001b[35m                  9.234206199645996                   \u001b[0m\u001b[35m \u001b[0m│\n",
              "│\u001b[36m \u001b[0m\u001b[36m           test_persistence_baseline/w_rmse           \u001b[0m\u001b[36m \u001b[0m│\u001b[35m \u001b[0m\u001b[35m                  4.803724765777588                   \u001b[0m\u001b[35m \u001b[0m│\n",
              "│\u001b[36m \u001b[0m\u001b[36mtest_persistence_baseline/w_rmse_2m_temperature_3.0_d…\u001b[0m\u001b[36m \u001b[0m│\u001b[35m \u001b[0m\u001b[35m                  4.803724765777588                   \u001b[0m\u001b[35m \u001b[0m│\n",
              "└────────────────────────────────────────────────────────┴────────────────────────────────────────────────────────┘\n"
            ],
            "text/html": [
              "<pre style=\"white-space:pre;overflow-x:auto;line-height:normal;font-family:Menlo,'DejaVu Sans Mono',consolas,'Courier New',monospace\">┏━━━━━━━━━━━━━━━━━━━━━━━━━━━━━━━━━━━━━━━━━━━━━━━━━━━━━━━━┳━━━━━━━━━━━━━━━━━━━━━━━━━━━━━━━━━━━━━━━━━━━━━━━━━━━━━━━━┓\n",
              "┃<span style=\"font-weight: bold\">                      Test metric                       </span>┃<span style=\"font-weight: bold\">                      DataLoader 0                      </span>┃\n",
              "┡━━━━━━━━━━━━━━━━━━━━━━━━━━━━━━━━━━━━━━━━━━━━━━━━━━━━━━━━╇━━━━━━━━━━━━━━━━━━━━━━━━━━━━━━━━━━━━━━━━━━━━━━━━━━━━━━━━┩\n",
              "│<span style=\"color: #008080; text-decoration-color: #008080\">                        test/acc                        </span>│<span style=\"color: #800080; text-decoration-color: #800080\">                  0.21853359043598175                   </span>│\n",
              "│<span style=\"color: #008080; text-decoration-color: #008080\">            test/acc_2m_temperature_3.0_days            </span>│<span style=\"color: #800080; text-decoration-color: #800080\">                  0.21853359043598175                   </span>│\n",
              "│<span style=\"color: #008080; text-decoration-color: #008080\">                      test/w_rmse                       </span>│<span style=\"color: #800080; text-decoration-color: #800080\">                   4.585573673248291                    </span>│\n",
              "│<span style=\"color: #008080; text-decoration-color: #008080\">          test/w_rmse_2m_temperature_3.0_days           </span>│<span style=\"color: #800080; text-decoration-color: #800080\">                   4.585573673248291                    </span>│\n",
              "│<span style=\"color: #008080; text-decoration-color: #008080\">            test_climatology_baseline/w_rmse            </span>│<span style=\"color: #800080; text-decoration-color: #800080\">                   9.234206199645996                    </span>│\n",
              "│<span style=\"color: #008080; text-decoration-color: #008080\"> test_climatology_baseline/w_rmse_2m_temperature_3.0_d… </span>│<span style=\"color: #800080; text-decoration-color: #800080\">                   9.234206199645996                    </span>│\n",
              "│<span style=\"color: #008080; text-decoration-color: #008080\">            test_persistence_baseline/w_rmse            </span>│<span style=\"color: #800080; text-decoration-color: #800080\">                   4.803724765777588                    </span>│\n",
              "│<span style=\"color: #008080; text-decoration-color: #008080\"> test_persistence_baseline/w_rmse_2m_temperature_3.0_d… </span>│<span style=\"color: #800080; text-decoration-color: #800080\">                   4.803724765777588                    </span>│\n",
              "└────────────────────────────────────────────────────────┴────────────────────────────────────────────────────────┘\n",
              "</pre>\n"
            ]
          },
          "metadata": {}
        },
        {
          "output_type": "display_data",
          "data": {
            "text/plain": [],
            "text/html": [
              "<pre style=\"white-space:pre;overflow-x:auto;line-height:normal;font-family:Menlo,'DejaVu Sans Mono',consolas,'Courier New',monospace\"></pre>\n"
            ]
          },
          "metadata": {}
        },
        {
          "output_type": "display_data",
          "data": {
            "text/plain": [
              "\n"
            ],
            "text/html": [
              "<pre style=\"white-space:pre;overflow-x:auto;line-height:normal;font-family:Menlo,'DejaVu Sans Mono',consolas,'Courier New',monospace\">\n",
              "</pre>\n"
            ]
          },
          "metadata": {}
        }
      ],
      "source": [
        "trainer.test(model_module, data_module)"
      ]
    },
    {
      "cell_type": "markdown",
      "metadata": {
        "id": "sWigLES4s22j"
      },
      "source": [
        "The model's prediction has a strong correlation with the ground truth, which is indicated by a high ACC value. Compared to a climatological forecast, the deep learning model achieves a much smaller RMSE error."
      ]
    },
    {
      "cell_type": "markdown",
      "metadata": {
        "id": "tcPCvx8AbPFZ"
      },
      "source": [
        "## Visualization "
      ]
    },
    {
      "cell_type": "markdown",
      "metadata": {
        "id": "SRQLNyO_yPhn"
      },
      "source": [
        "We visualize the **bias**, given by the difference in the predicted and the ground truth values, to better analyze our learned model.\n",
        "\n",
        "Visualization is done on the test set. We can either specify exact time for the initial condition, or randomly sample from the test set."
      ]
    },
    {
      "cell_type": "code",
      "source": [
        "import os\n",
        "import random\n",
        "import numpy as np\n",
        "import matplotlib.pyplot as plt\n",
        "from datetime import datetime\n",
        "\n",
        "def visualize(model_module, data_module, split = \"test\", samples = 2, save_dir = None):\n",
        "    if save_dir is not None:\n",
        "        os.makedirs(save_dir, exist_ok = True)\n",
        "\n",
        "    # dataset.setup()\n",
        "    dataset = eval(f\"data_module.{split}_dataset\")\n",
        "\n",
        "    if(type(samples) == int):\n",
        "        idxs = random.sample(range(0, len(dataset)), samples)\n",
        "    elif(type(samples) == list):\n",
        "        idxs = [np.searchsorted(dataset.time, np.datetime64(datetime.strptime(dt, \"%Y-%m-%d:%H\"))) for dt in samples]\n",
        "    else:\n",
        "        raise Exception(\"Invalid type for samples; Allowed int or list[datetime.datetime or np.datetime64]\")\n",
        "\n",
        "    fig, axes = plt.subplots(len(idxs), 4, figsize=(30, 3 * len(idxs)), squeeze = False)\n",
        "\n",
        "    for index, idx in enumerate(idxs):\n",
        "        x, y, _, _ = dataset[idx] # 1, 1, 32, 64\n",
        "        pred = model_module.forward(x.unsqueeze(0)) # 1, 1, 32, 64\n",
        "\n",
        "        inv_normalize = model_module.denormalization\n",
        "        init_condition, gt = inv_normalize(x), inv_normalize(y)\n",
        "        pred = inv_normalize(pred)\n",
        "        bias = pred - gt\n",
        "\n",
        "        for i, tensor in enumerate([init_condition, gt, pred, bias]):\n",
        "            ax = axes[index][i]\n",
        "            im = ax.imshow(tensor.detach().squeeze().cpu().numpy())\n",
        "            im.set_cmap(cmap=plt.cm.coolwarm)\n",
        "            fig.colorbar(im, ax=ax)\n",
        "\n",
        "\n",
        "            axes[index][0].set_title(\"Initial condition \")\n",
        "            axes[index][1].set_title(\"Ground truth \")\n",
        "            axes[index][2].set_title(\"Prediction \")\n",
        "            axes[index][3].set_title(\"Bias \")\n",
        "\n",
        "\n",
        "    fig.tight_layout()\n",
        "    \n",
        "    if save_dir is not None:\n",
        "        plt.savefig(os.path.join(save_dir, 'visualize.png'))\n",
        "    else:\n",
        "        plt.show()\n",
        "\n",
        "# if samples = 2, we randomly pick 2 initial conditions in the test set\n",
        "visualize(model_module, data_module, samples = [\"2021-02-01:12\", \"2021-08-01:18\"])\n"
      ],
      "metadata": {
        "id": "Lx8ONXMk8nAh",
        "colab": {
          "base_uri": "https://localhost:8080/",
          "height": 209
        },
        "outputId": "798e6b77-6f14-4de8-8f79-da6ed5b594f8"
      },
      "execution_count": 1,
      "outputs": [
        {
          "output_type": "error",
          "ename": "NameError",
          "evalue": "ignored",
          "traceback": [
            "\u001b[0;31m---------------------------------------------------------------------------\u001b[0m",
            "\u001b[0;31mNameError\u001b[0m                                 Traceback (most recent call last)",
            "\u001b[0;32m<ipython-input-1-6984d1dcbf04>\u001b[0m in \u001b[0;36m<module>\u001b[0;34m\u001b[0m\n\u001b[1;32m     51\u001b[0m \u001b[0;34m\u001b[0m\u001b[0m\n\u001b[1;32m     52\u001b[0m \u001b[0;31m# if samples = 2, we randomly pick 2 initial conditions in the test set\u001b[0m\u001b[0;34m\u001b[0m\u001b[0;34m\u001b[0m\u001b[0m\n\u001b[0;32m---> 53\u001b[0;31m \u001b[0mvisualize\u001b[0m\u001b[0;34m(\u001b[0m\u001b[0mmodel_module\u001b[0m\u001b[0;34m,\u001b[0m \u001b[0mdata_module\u001b[0m\u001b[0;34m,\u001b[0m \u001b[0msamples\u001b[0m \u001b[0;34m=\u001b[0m \u001b[0;34m[\u001b[0m\u001b[0;34m\"2021-02-01:12\"\u001b[0m\u001b[0;34m,\u001b[0m \u001b[0;34m\"2021-08-01:18\"\u001b[0m\u001b[0;34m]\u001b[0m\u001b[0;34m)\u001b[0m\u001b[0;34m\u001b[0m\u001b[0;34m\u001b[0m\u001b[0m\n\u001b[0m",
            "\u001b[0;31mNameError\u001b[0m: name 'model_module' is not defined"
          ]
        }
      ]
    },
    {
      "cell_type": "markdown",
      "metadata": {
        "id": "Vy3WrJEOsEXZ"
      },
      "source": [
        "The visualization shows that the model makes reasonably accurate predictions in most parts of the globe, and the prediction well correlates with the ground truth. The model seems to make large errors near the two poles, where the temperature is more unpredictable. We can improve the accuracy of the model by either including more input variables, using a more expressive model, or training for longer. For the sake of this tutorial, we use a small model and only train for a short time."
      ]
    },
    {
      "cell_type": "markdown",
      "metadata": {
        "id": "C6HYhl551E8_"
      },
      "source": [
        "In addition to visualizing the bias the model makes for each individual data point, we can also visualize the mean bias across the entire test set."
      ]
    },
    {
      "cell_type": "code",
      "execution_count": 2,
      "metadata": {
        "id": "H7Qjfu-H1VEd",
        "colab": {
          "base_uri": "https://localhost:8080/",
          "height": 209
        },
        "outputId": "7e248fe2-2687-4b2f-8c28-7d2f25c9480f"
      },
      "outputs": [
        {
          "output_type": "error",
          "ename": "NameError",
          "evalue": "ignored",
          "traceback": [
            "\u001b[0;31m---------------------------------------------------------------------------\u001b[0m",
            "\u001b[0;31mNameError\u001b[0m                                 Traceback (most recent call last)",
            "\u001b[0;32m<ipython-input-2-cb7aeec3c184>\u001b[0m in \u001b[0;36m<module>\u001b[0;34m\u001b[0m\n\u001b[1;32m     41\u001b[0m         \u001b[0mplt\u001b[0m\u001b[0;34m.\u001b[0m\u001b[0mshow\u001b[0m\u001b[0;34m(\u001b[0m\u001b[0;34m)\u001b[0m\u001b[0;34m\u001b[0m\u001b[0;34m\u001b[0m\u001b[0m\n\u001b[1;32m     42\u001b[0m \u001b[0;34m\u001b[0m\u001b[0m\n\u001b[0;32m---> 43\u001b[0;31m \u001b[0mvisualize_mean_bias\u001b[0m\u001b[0;34m(\u001b[0m\u001b[0mmodel_module\u001b[0m\u001b[0;34m.\u001b[0m\u001b[0mcuda\u001b[0m\u001b[0;34m(\u001b[0m\u001b[0;34m)\u001b[0m\u001b[0;34m,\u001b[0m \u001b[0mdata_module\u001b[0m\u001b[0;34m)\u001b[0m\u001b[0;34m\u001b[0m\u001b[0;34m\u001b[0m\u001b[0m\n\u001b[0m",
            "\u001b[0;31mNameError\u001b[0m: name 'model_module' is not defined"
          ]
        }
      ],
      "source": [
        "import torch\n",
        "from tqdm import tqdm\n",
        "import matplotlib.pyplot as plt\n",
        "\n",
        "def visualize_mean_bias(model_module, data_module, save_dir = None):\n",
        "    if save_dir is not None:\n",
        "        os.makedirs(save_dir, exist_ok = True)\n",
        "\n",
        "    loader = data_module.test_dataloader()\n",
        "\n",
        "    all_mean_bias = []\n",
        "    for batch in tqdm(loader):\n",
        "      x, y, _, _ = batch # B, 1, 32, 64\n",
        "      x = x.to(model_module.device)\n",
        "      y = y.to(model_module.device)\n",
        "      pred = model_module.forward(x) # B, 1, 32, 64\n",
        "\n",
        "      inv_normalize = model_module.denormalization\n",
        "      init_condition, gt = inv_normalize(x), inv_normalize(y)\n",
        "      pred = inv_normalize(pred)\n",
        "      bias = pred - gt # B, 1, 32, 64\n",
        "      mean_bias = bias.mean(dim=0)\n",
        "      all_mean_bias.append(mean_bias)\n",
        "    \n",
        "    all_mean_bias = torch.stack(all_mean_bias, dim=0)\n",
        "    mean_bias = torch.mean(all_mean_bias, dim=0)\n",
        "\n",
        "    fig, axes = plt.subplots(1, 1, figsize=(12, 4), squeeze = False)\n",
        "    ax = axes[0,0]\n",
        "\n",
        "    im = ax.imshow(mean_bias.detach().squeeze().cpu().numpy())\n",
        "    im.set_cmap(cmap=plt.cm.coolwarm)\n",
        "    fig.colorbar(im, ax=ax)\n",
        "    ax.set_title(\"Mean bias [Tornto]\")\n",
        "\n",
        "    fig.tight_layout()\n",
        "    \n",
        "    if save_dir is not None:\n",
        "        plt.savefig(os.path.join(save_dir, 'visualize_mean_bias.png'))\n",
        "    else:\n",
        "        plt.show()\n",
        "  \n",
        "visualize_mean_bias(model_module.cuda(), data_module)"
      ]
    }
  ],
  "metadata": {
    "colab": {
      "provenance": [],
      "toc_visible": true
    },
    "gpuClass": "standard",
    "kernelspec": {
      "display_name": "Python 3",
      "name": "python3"
    },
    "language_info": {
      "name": "python"
    },
    "widgets": {
      "application/vnd.jupyter.widget-state+json": {
        "55366fb8bb5d4a93974a5caa79e417c1": {
          "model_module": "@jupyter-widgets/output",
          "model_name": "OutputModel",
          "model_module_version": "1.0.0",
          "state": {
            "_dom_classes": [],
            "_model_module": "@jupyter-widgets/output",
            "_model_module_version": "1.0.0",
            "_model_name": "OutputModel",
            "_view_count": null,
            "_view_module": "@jupyter-widgets/output",
            "_view_module_version": "1.0.0",
            "_view_name": "OutputView",
            "layout": "IPY_MODEL_a524546d31bd44aabc68a57462977f65",
            "msg_id": "",
            "outputs": [
              {
                "output_type": "display_data",
                "data": {
                  "text/plain": "Epoch 4/4  \u001b[38;2;98;6;224m━━━━━━━━━━━━━━━━━━━━━━━━━━━━━━━━━━\u001b[0m \u001b[37m548/548\u001b[0m \u001b[38;5;245m0:05:05 • 0:00:00\u001b[0m \u001b[38;5;249m3.16it/s\u001b[0m \u001b[37mloss: 0.271                       \u001b[0m\n                                                                                 \u001b[37mtrain/w_mse_2m_temperature_3.0_da…\u001b[0m\n                                                                                 \u001b[37m0.312 train/loss: 0.312           \u001b[0m\n",
                  "text/html": "<pre style=\"white-space:pre;overflow-x:auto;line-height:normal;font-family:Menlo,'DejaVu Sans Mono',consolas,'Courier New',monospace\">Epoch 4/4  <span style=\"color: #6206e0; text-decoration-color: #6206e0\">━━━━━━━━━━━━━━━━━━━━━━━━━━━━━━━━━━</span> <span style=\"color: #c0c0c0; text-decoration-color: #c0c0c0\">548/548</span> <span style=\"color: #8a8a8a; text-decoration-color: #8a8a8a\">0:05:05 • 0:00:00</span> <span style=\"color: #b2b2b2; text-decoration-color: #b2b2b2\">3.16it/s</span> <span style=\"color: #c0c0c0; text-decoration-color: #c0c0c0\">loss: 0.271                       </span>\n                                                                                 <span style=\"color: #c0c0c0; text-decoration-color: #c0c0c0\">train/w_mse_2m_temperature_3.0_da…</span>\n                                                                                 <span style=\"color: #c0c0c0; text-decoration-color: #c0c0c0\">0.312 train/loss: 0.312           </span>\n</pre>\n"
                },
                "metadata": {}
              }
            ]
          }
        },
        "a524546d31bd44aabc68a57462977f65": {
          "model_module": "@jupyter-widgets/base",
          "model_name": "LayoutModel",
          "model_module_version": "1.2.0",
          "state": {
            "_model_module": "@jupyter-widgets/base",
            "_model_module_version": "1.2.0",
            "_model_name": "LayoutModel",
            "_view_count": null,
            "_view_module": "@jupyter-widgets/base",
            "_view_module_version": "1.2.0",
            "_view_name": "LayoutView",
            "align_content": null,
            "align_items": null,
            "align_self": null,
            "border": null,
            "bottom": null,
            "display": null,
            "flex": null,
            "flex_flow": null,
            "grid_area": null,
            "grid_auto_columns": null,
            "grid_auto_flow": null,
            "grid_auto_rows": null,
            "grid_column": null,
            "grid_gap": null,
            "grid_row": null,
            "grid_template_areas": null,
            "grid_template_columns": null,
            "grid_template_rows": null,
            "height": null,
            "justify_content": null,
            "justify_items": null,
            "left": null,
            "margin": null,
            "max_height": null,
            "max_width": null,
            "min_height": null,
            "min_width": null,
            "object_fit": null,
            "object_position": null,
            "order": null,
            "overflow": null,
            "overflow_x": null,
            "overflow_y": null,
            "padding": null,
            "right": null,
            "top": null,
            "visibility": null,
            "width": null
          }
        },
        "d2a478776b7e4afaba6e73e816c02e81": {
          "model_module": "@jupyter-widgets/output",
          "model_name": "OutputModel",
          "model_module_version": "1.0.0",
          "state": {
            "_dom_classes": [],
            "_model_module": "@jupyter-widgets/output",
            "_model_module_version": "1.0.0",
            "_model_name": "OutputModel",
            "_view_count": null,
            "_view_module": "@jupyter-widgets/output",
            "_view_module_version": "1.0.0",
            "_view_name": "OutputView",
            "layout": "IPY_MODEL_0c0cd5c50d6c4153b329f1303a4377c2",
            "msg_id": "",
            "outputs": [
              {
                "output_type": "display_data",
                "data": {
                  "text/plain": "\u001b[37mTesting\u001b[0m \u001b[38;2;98;6;224m━━━━━━━━━━━━━━━━━━━━━━━━━━━━━━━━━━━━━━━━\u001b[0m \u001b[37m137/137\u001b[0m \u001b[38;5;245m0:00:28 • 0:00:00\u001b[0m \u001b[38;5;249m4.87it/s\u001b[0m  \n",
                  "text/html": "<pre style=\"white-space:pre;overflow-x:auto;line-height:normal;font-family:Menlo,'DejaVu Sans Mono',consolas,'Courier New',monospace\"><span style=\"color: #c0c0c0; text-decoration-color: #c0c0c0\">Testing</span> <span style=\"color: #6206e0; text-decoration-color: #6206e0\">━━━━━━━━━━━━━━━━━━━━━━━━━━━━━━━━━━━━━━━━</span> <span style=\"color: #c0c0c0; text-decoration-color: #c0c0c0\">137/137</span> <span style=\"color: #8a8a8a; text-decoration-color: #8a8a8a\">0:00:28 • 0:00:00</span> <span style=\"color: #b2b2b2; text-decoration-color: #b2b2b2\">4.87it/s</span>  \n</pre>\n"
                },
                "metadata": {}
              }
            ]
          }
        },
        "0c0cd5c50d6c4153b329f1303a4377c2": {
          "model_module": "@jupyter-widgets/base",
          "model_name": "LayoutModel",
          "model_module_version": "1.2.0",
          "state": {
            "_model_module": "@jupyter-widgets/base",
            "_model_module_version": "1.2.0",
            "_model_name": "LayoutModel",
            "_view_count": null,
            "_view_module": "@jupyter-widgets/base",
            "_view_module_version": "1.2.0",
            "_view_name": "LayoutView",
            "align_content": null,
            "align_items": null,
            "align_self": null,
            "border": null,
            "bottom": null,
            "display": null,
            "flex": null,
            "flex_flow": null,
            "grid_area": null,
            "grid_auto_columns": null,
            "grid_auto_flow": null,
            "grid_auto_rows": null,
            "grid_column": null,
            "grid_gap": null,
            "grid_row": null,
            "grid_template_areas": null,
            "grid_template_columns": null,
            "grid_template_rows": null,
            "height": null,
            "justify_content": null,
            "justify_items": null,
            "left": null,
            "margin": null,
            "max_height": null,
            "max_width": null,
            "min_height": null,
            "min_width": null,
            "object_fit": null,
            "object_position": null,
            "order": null,
            "overflow": null,
            "overflow_x": null,
            "overflow_y": null,
            "padding": null,
            "right": null,
            "top": null,
            "visibility": null,
            "width": null
          }
        }
      }
    },
    "accelerator": "GPU"
  },
  "nbformat": 4,
  "nbformat_minor": 0
}